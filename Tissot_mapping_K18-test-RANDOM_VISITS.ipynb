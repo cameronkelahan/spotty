{
 "cells": [
  {
   "cell_type": "code",
   "execution_count": 1,
   "metadata": {},
   "outputs": [],
   "source": [
    "import matplotlib.pyplot as plt\n",
    "import cartopy.crs as ccrs\n",
    "import pandas as pd\n",
    "import numpy as np\n",
    "from matplotlib.backends.backend_agg import FigureCanvasAgg as FigureCanvas\n",
    "import matplotlib.animation as animation\n",
    "from scipy import stats\n",
    "from datetime import date\n",
    "\n",
    "import warnings\n",
    "warnings.filterwarnings(\"ignore\")\n",
    "\n",
    "%matplotlib inline"
   ]
  },
  {
   "cell_type": "code",
   "execution_count": 2,
   "metadata": {},
   "outputs": [
    {
     "name": "stdout",
     "output_type": "stream",
     "text": [
      "tdur [calc] = 2.70 hours\n",
      "tdur [Kruse 2019] = 2.7 hours\n",
      "Prot(star) =  926.4000000000001 [hours]\n",
      "1 degree stellar rotation = 2.5733333333333337 hours\n",
      "1 degree stellar rotation = 0.9530864197530865 transit duration\n",
      "\n",
      "1 HST orbit = 0.8333333333333334 hours (FIXED!!)\n",
      "1 transit duration = 3.24 HST orbits\n",
      "1 degree stellar rotation = 3.088 HST orbits\n",
      "1 HST orbit = 0.3238341968911917 degrees stellar rotation\n",
      "1 HST orbit = 231.48148148148147 pixels traveled across star\n",
      "1 HST orbit = 230 pixels traveled across star (FIXED!!!)\n"
     ]
    }
   ],
   "source": [
    "k = 0.0172020989 # Gaussian Grav Constant\n",
    "grav = k**2 # work in units of AU, DAYS and solar masses\n",
    "rsun_to_AU = 0.00465047\n",
    "gm = 2.959122083e-4\n",
    "rEarth = 6370.# km\n",
    "rEarth_to_rSun = 0.0091577\n",
    "\n",
    "mstar = 0.359#MSun\n",
    "Rstar = 0.4445\n",
    "Rplanet = 2.6*rEarth_to_rSun\n",
    "#Rp_Rs = np.sqrt(np.pi/4)*0.054\n",
    "Rp_Rs = 0.054\n",
    "tdepth_ = Rp_Rs**2\n",
    "Pplanet = 32.93963#days\n",
    "b = 0.#0.774\n",
    "Prot = 38.6*24.#hours\n",
    "\n",
    "aplanet = (Pplanet**(2./3.))*((grav*mstar)**(1./3.))/((2.*np.pi)**(2./3.))\n",
    "\n",
    "tdur_days = (Pplanet/np.pi)*np.arcsin(np.sqrt((Rstar**2 + Rplanet**2) + b**2)/(aplanet/rsun_to_AU))\n",
    "tdur_hrs = tdur_days*24.\n",
    "tdur_hrs = 2.7 # Kruse et al. 2019\n",
    "\n",
    "print('tdur [calc] =', \"%0.2f\" % tdur_hrs, 'hours')\n",
    "print('tdur [Kruse 2019] = 2.7 hours')\n",
    "print('Prot(star) = ', Prot, '[hours]')\n",
    "\n",
    "#star rotation of 1 degree in (1./360.)*Prot hours\n",
    "Prot_1hr = (1./360.)*Prot\n",
    "print('1 degree stellar rotation =', Prot_1hr, 'hours')\n",
    "print('1 degree stellar rotation =', Prot_1hr/tdur_hrs, 'transit duration')\n",
    "#\n",
    "HST_orbit_ = 5./6.#0.001*Pplanet*24# In hours\n",
    "HST_orbits_per_degree_stellar_rotation = Prot_1hr/HST_orbit_\n",
    "Degrees_stellar_rotation_per_HST_orbit_ = 1./HST_orbits_per_degree_stellar_rotation\n",
    "print()\n",
    "print('1 HST orbit =', HST_orbit_, 'hours (FIXED!!)')\n",
    "print('1 transit duration =', tdur_hrs/HST_orbit_, 'HST orbits')\n",
    "print('1 degree stellar rotation =', HST_orbits_per_degree_stellar_rotation, 'HST orbits')\n",
    "print('1 HST orbit =', Degrees_stellar_rotation_per_HST_orbit_, 'degrees stellar rotation')\n",
    "#print('6 HST orbit = ', 6*obs_duration_, 'hours')\n",
    "star_size = 750 # pixels, FIXED!\n",
    "print('1 HST orbit =', star_size/(tdur_hrs/HST_orbit_), 'pixels traveled across star')\n",
    "pixels_per_HST_visit_round_of_10 = int((star_size/(tdur_hrs/HST_orbit_) // 10)*10)\n",
    "print('1 HST orbit =', pixels_per_HST_visit_round_of_10, 'pixels traveled across star (FIXED!!!)')"
   ]
  },
  {
   "cell_type": "code",
   "execution_count": 3,
   "metadata": {},
   "outputs": [],
   "source": [
    "#aa = ((star_size/(tdur_hrs/HST_orbit_)) // 10)*10\n",
    "#print(aa)"
   ]
  },
  {
   "cell_type": "code",
   "execution_count": 4,
   "metadata": {},
   "outputs": [
    {
     "data": {
      "text/plain": [
       "0.9908319448927676"
      ]
     },
     "execution_count": 4,
     "metadata": {},
     "output_type": "execute_result"
    }
   ],
   "source": [
    "amplitude_mag = 10e-3# magnitude\n",
    "amplitude_flux = 10**(-0.4*amplitude_mag)\n",
    "\n",
    "amplitude_flux"
   ]
  },
  {
   "cell_type": "code",
   "execution_count": 5,
   "metadata": {},
   "outputs": [],
   "source": [
    "Teff_ = 3500\n",
    "Tspots = 3000\n",
    "#\n",
    "UV_min, UV_max, IR_min, IR_max = 0.42, 0.88, 0.9, 1.8 # in micron\n",
    "spectral_resolution = 500\n",
    "#\n",
    "area_covered, number_of_spots, aspect_ratio = 0.05, 20, 1.\n",
    "#\n",
    "number_of_rotation_phases = 1440#360\n",
    "#\n",
    "HST_filter = [1.12,1.63]\n",
    "#HST_filter_=np.array([1.135,1.165,1.195,1.225,1.255,1.285,1.315,1.345,1.375,1.405,1.435,1.465,1.495,\\\n",
    "#                    1.525,1.555,1.585,1.615])\n",
    "IR_min, IR_max = min(HST_filter), max(HST_filter)"
   ]
  },
  {
   "cell_type": "code",
   "execution_count": 6,
   "metadata": {},
   "outputs": [],
   "source": [
    "#url = 'https://phoenix.ens-lyon.fr/Grids/BT-Settl/CIFIST2011_2015/SPECTRA/'\n",
    "#url = 'https://phoenix.ens-lyon.fr/Grids/AMES-Dusty/SPECTRA/'\n",
    "#fn = 'lte0' + str(int(Teff_/100)) + '.0-5.0-0.0a+0.0.BT-Settl.spec.7.xz'\n",
    "#fn = 'lte' + str(int(Teff_/100)) + '-5.0-0.0.AMES-dusty.7.gz'\n",
    "#tt = 'https://phoenix.ens-lyon.fr/Grids/AMES-Dusty/SPECTRA/lte35-5.0-0.0.AMES-dusty.7.gz'\n",
    "#print(url+fn)\n",
    "#print(tt)\n",
    "#df = pd.read_csv(url+fn, na_filter= False).values"
   ]
  },
  {
   "cell_type": "code",
   "execution_count": 7,
   "metadata": {},
   "outputs": [],
   "source": [
    "fn_model_Teff = f\"T{Teff_}_g5.0_solar.txt\"\n",
    "fn_model_spots = f\"T{Tspots}_g5.0_solar.txt\"\n",
    "#\n",
    "stellar_spec_Teff = pd.read_csv(fn_model_Teff, header = 7, sep = '\\t')\n",
    "stellar_spec_Teff = stellar_spec_Teff.values\n",
    "wavelength_model_Teff = stellar_spec_Teff[:,0]\n",
    "stellar_flux_model_Teff = stellar_spec_Teff[:,1]\n",
    "#\n",
    "stellar_spec_spots = pd.read_csv(fn_model_spots, header = 7, sep = '\\t')\n",
    "stellar_spec_spots = stellar_spec_spots.values\n",
    "wavelength_model_spots = stellar_spec_spots[:,0]\n",
    "stellar_flux_model_spots = stellar_spec_spots[:,1]"
   ]
  },
  {
   "cell_type": "code",
   "execution_count": 8,
   "metadata": {},
   "outputs": [],
   "source": [
    "interp_model_spectra_ = 'n'\n",
    "\n",
    "if interp_model_spectra_ == 'y':\n",
    "    print('Model Spectra Interpolated to Spectral Resolution of ' + str(spectral_resolution))\n",
    "    filter_UV = np.linspace(UV_min, UV_max, spectral_resolution)\n",
    "    filter_IR = np.linspace(IR_min, IR_max, spectral_resolution)\n",
    "#\n",
    "    stellar_flux_model_interp_Teff_IR = np.interp(filter_IR, wavelength_model_Teff/1e4, stellar_flux_model_Teff)\n",
    "    stellar_flux_model_interp_spots_IR = np.interp(filter_IR, wavelength_model_spots/1e4, stellar_flux_model_spots)\n",
    "#\n",
    "    stellar_flux_model_interp_Teff_UV = np.interp(filter_UV, wavelength_model_Teff/1e4, stellar_flux_model_Teff)\n",
    "    stellar_flux_model_interp_spots_UV = np.interp(filter_UV, wavelength_model_spots/1e4, stellar_flux_model_spots)\n",
    "else:\n",
    "    idx_UV_, = np.where((wavelength_model_Teff/1e4 >= UV_min) & (wavelength_model_Teff/1e4 <= UV_max))\n",
    "    idx_IR_, = np.where((wavelength_model_Teff/1e4 >= IR_min) & (wavelength_model_Teff/1e4 <= IR_max))\n",
    "#\n",
    "    filter_UV = wavelength_model_Teff[idx_UV_]/1e4\n",
    "    filter_IR = wavelength_model_Teff[idx_IR_]/1e4\n",
    "#\n",
    "    stellar_flux_model_interp_Teff_IR = stellar_flux_model_Teff[idx_IR_]\n",
    "    stellar_flux_model_interp_spots_IR = stellar_flux_model_spots[idx_IR_]\n",
    "#\n",
    "    stellar_flux_model_interp_Teff_UV = stellar_flux_model_Teff[idx_UV_]\n",
    "    stellar_flux_model_interp_spots_UV = stellar_flux_model_spots[idx_UV_]"
   ]
  },
  {
   "cell_type": "code",
   "execution_count": 9,
   "metadata": {},
   "outputs": [],
   "source": [
    "#Sep 2019 Benneke submission: depths_Benneke, depth_err_ = \\\n",
    "#np.array([2937, 2886, 2874, 2912, 2913, 2897, 2901, 2970, 2955, \\\n",
    "#2952, 2978, 2914,2929, 2893, 2862, 2897, 2884]), 30.+np.zeros((17))\n",
    "\n",
    "# Dec 2019 Benneke accepted:\n",
    "depths_Benneke, depth_err_ = np.array([2916, 2900, 2873, 2910, 2909, 2898, 2897, 2970, 2955, 2953, 2971, 2907, \\\n",
    "                                       2934, 2891, 2869, 2896, 2878]), 25.+np.zeros((17))\n",
    "    \n",
    "depths_Tsiaras, depth_err_ = np.array([2905, 2939, 2903, 2922, 2891, 2897, 2919, 2965, 2955, 2976, 2990, 2895, \\\n",
    "                                       2930, 2921, 2875, 2927, 2925]), 30.+np.zeros((17))\n",
    "idx_HST, = np.where((filter_IR >= min(HST_filter)) & (filter_IR <= max(HST_filter)))\n",
    "\n",
    "HST_depths_ = depths_Benneke\n",
    "#HST_depths_ = depths_Tsiaras\n",
    "\n",
    "normalized_HST_depths_ = HST_depths_# - np.nanmean(HST_depths_)"
   ]
  },
  {
   "cell_type": "code",
   "execution_count": 10,
   "metadata": {},
   "outputs": [
    {
     "data": {
      "image/png": "[encoded data removed]",
      "text/plain": [
       "<Figure size 1440x360 with 1 Axes>"
      ]
     },
     "metadata": {
      "needs_background": "light"
     },
     "output_type": "display_data"
    }
   ],
   "source": [
    "fig = plt.figure(figsize=(20,5))\n",
    "\n",
    "#plt.plot(filter_UV, stellar_flux_model_interp_Teff_UV, 'b')\n",
    "plt.plot(filter_IR, stellar_flux_model_interp_Teff_IR, 'r')\n",
    "plt.plot(filter_IR, stellar_flux_model_interp_spots_IR, 'b')\n",
    "plt.xlabel('Wavelength [micron]', fontsize = 16)\n",
    "plt.ylabel('NexGen flux density', fontsize = 16)\n",
    "#plt.plot(filter_IR, stellar_flux_model_interp_Teff_IR - stellar_flux_model_interp_spots_IR)\n",
    "plt.xlim(HST_filter[0], HST_filter[1])\n",
    "#plt.ylim(0.,2e3)\n",
    "\n",
    "plt.show()"
   ]
  },
  {
   "cell_type": "code",
   "execution_count": 11,
   "metadata": {},
   "outputs": [],
   "source": [
    "#### MAKE FIGURES ####\n",
    "\n",
    "def fig_rotated_star_map_(phase_,\\\n",
    "                          star_cube_orbit_1,star_cube_orbit_2,star_cube_orbit_3,star_cube_orbit_4,\\\n",
    "                          nn,ii,observations_per_orbit_,save_fig):\n",
    "        \n",
    "    for kk in range(observations_per_orbit_):\n",
    "        fig = plt.figure(figsize=(20,10))\n",
    "        grid = plt.GridSpec(observations_per_orbit_, 4, wspace=0., hspace=0.)\n",
    "                \n",
    "        plt.subplot(grid[kk,0])\n",
    "        plt.imshow(star_cube_orbit_1[:,:,kk], cmap='hot', vmin=-1., vmax=1.)\n",
    "        plt.axis('off')\n",
    "        if kk == 0:\n",
    "            plt.title('Visit ' + str(ii+1) + '; Orbit 1')\n",
    "            \n",
    "        plt.subplot(grid[kk,1])\n",
    "        plt.imshow(star_cube_orbit_2[:,:,kk], cmap='hot', vmin=-1., vmax=1.)\n",
    "        plt.axis('off')\n",
    "        if kk == 0:\n",
    "            plt.title('Visit ' + str(ii+1) + '; Orbit 2')\n",
    "            \n",
    "        plt.subplot(grid[kk,2])\n",
    "        plt.imshow(star_cube_orbit_3[:,:,kk], cmap='hot', vmin=-1., vmax=1.)\n",
    "        plt.axis('off')\n",
    "        if kk == 0:\n",
    "            plt.title('Visit ' + str(ii+1) + '; Orbit 3')\n",
    "            \n",
    "        plt.subplot(grid[kk,3])\n",
    "        plt.imshow(star_cube_orbit_4[:,:,kk], cmap='hot', vmin=-1., vmax=1.)\n",
    "        plt.axis('off')\n",
    "        if kk == 0:\n",
    "            plt.title('Visit ' + str(ii+1) + '; Orbit 4')\n",
    "\n",
    "            \n",
    "#            plt.title('Rot. Phase = ' + str(round(phase_[jj],2)))\n",
    "\n",
    "#            plt.show()\n",
    "    if save_fig == 'y':\n",
    "        plt.savefig(str(nn) + '_star_visit_' + str(ii+1) + '.png')\n",
    "#    else:\n",
    "#        plt.show()\n",
    "\n",
    "    return\n",
    "    \n",
    "def fig_full_lc_(phase_full_rotation, lc_full, phase_, lc_transit, nn, ii, save_fig):                \n",
    "    fig = plt.figure(figsize=(20,3))\n",
    "    plt.plot(phase_full_rotation/360., lc_full, 'ko-')#, ms = 12)\n",
    "    plt.plot(phase_/360., lc_transit, 'r-')#, ms = 10)\n",
    "#                plt.xlim(-0.001, 0.004)\n",
    "#                plt.ylim(0.995, 1.005)\n",
    "    plt.title('Norm. Lightcurve, Visit ' + str(ii+1))\n",
    "    plt.xlabel('Phase')\n",
    "#            else:\n",
    "\n",
    "    left, bottom, width, height = [0.65, 0.65, 0.15, 0.2]\n",
    "    ax2 = fig.add_axes([left, bottom, width, height])\n",
    "#                ax2.plot(phase_full_rotation/360., lc_full, 'k.')\n",
    "    ax2.plot(phase_/360., lc_transit, 'ro-')#, ms = 10)\n",
    "    plt.xlim(0.995*min(phase_/360.), 1.005*max(phase_/360.))\n",
    "    plt.ylim(0.995*min(lc_transit), 1.005*max(lc_transit))\n",
    "#    plt.xlabel('Phase')\n",
    "                        \n",
    "#            plt.imshow(star_map_copy_, cmap='hot', vmin=-1., vmax=1., origin = 'bottom')\n",
    "#            plt.xlabel('Lon [deg]', fontsize = 12)\n",
    "#            plt.ylabel('Lat [deg]', fontsize = 12)\n",
    "#            plt.show()\n",
    "    if save_fig == 'y':\n",
    "        path_ = '/Users/vkostov/Desktop/Ideas_etc/Mapping/for_Overleaf/'\n",
    "        plt.savefig(path_ + 'RandomMap_' + str(int(area_covered*100)) + 'percent_SpotCoverage_' \\\n",
    "                    + str(nn) + '_LcVisit_' + str(ii+1) + '.png')\n",
    "    else:\n",
    "        plt.show()\n",
    "        \n",
    "    return\n",
    "\n",
    "def fig_plot_individual_visits(number_of_visits_, filter_IR_HST, mean_subtracted_diff_flux_arr_, \\\n",
    "                              bin_centers_, mean_subtracted_binned_spec_per_visit, nn, save_fig):\n",
    "    fig = plt.figure(figsize=(20,15))\n",
    "\n",
    "    for jj in range(number_of_visits_):\n",
    "\n",
    "        plt.subplot(number_of_visits_, 1, jj+1)\n",
    "        plt.plot(filter_IR[idx_HST], mean_subtracted_diff_flux_arr_[jj,:], 'k', alpha = 0.25)\n",
    "        plt.plot(bin_centers_, mean_subtracted_binned_spec_per_visit[jj,:],'ro-',ms=10)\n",
    "        plt.title('Diff spectrum, Visit ' + str(jj+1))\n",
    "            \n",
    "#        plt.show()\n",
    "    if save_fig == 'y':\n",
    "        path_ = '/Users/vkostov/Desktop/Ideas_etc/Mapping/for_Overleaf/'\n",
    "        plt.savefig(path_ + 'Individual_visits_iter_' + str(nn) + '.png')\n",
    "    else:\n",
    "        plt.show()\n",
    "        \n",
    "    return\n",
    "\n",
    "def fig_plot_averaged_spec_all_visits_(bin_centers_, averaged_spec_all_visits_binned_, normalized_HST_depths_,\\\n",
    "                                       nn, save_fig):\n",
    "    fig = plt.figure(figsize=(20,3))\n",
    "    plt.plot(bin_centers_, averaged_spec_all_visits_binned_, 'rs-', ms = 7, lw = 15, alpha = 0.5)\n",
    "    plt.errorbar(bin_centers_, normalized_HST_depths_, yerr = 1.*depth_err_, fmt = 'bs-', ms = 7, \\\n",
    "                    label = 'K2-18 HST', lw = 15, alpha = 0.5)\n",
    "        \n",
    "    plt.title('Averaged Difference Spectrum, (OOT-ITR)/ITR)')\n",
    "#        plt.show()\n",
    "    if save_fig == 'y':\n",
    "        path_ = '/Users/vkostov/Desktop/Ideas_etc/Mapping/for_Overleaf/'\n",
    "        plt.savefig(path_ + 'Averaged_spec_all_visits_iter_' + str(nn) + '.png')\n",
    "    else:\n",
    "        plt.show()\n",
    "    \n",
    "    return"
   ]
  },
  {
   "cell_type": "code",
   "execution_count": 12,
   "metadata": {},
   "outputs": [],
   "source": [
    "def spot_sizes(area_covered, ndc, aspect_ratio):\n",
    "    \n",
    "    Atot = np.round(4.*np.pi*rEarth**2)\n",
    "    rad = np.random.random(ndc)   \n",
    "    ntot = np.sum((np.pi*(rad**2))/aspect_ratio)\n",
    "    normalization = Atot*area_covered/ntot\n",
    "    \n",
    "    rad_real = np.around(rad*(normalization**0.5))\n",
    "    \n",
    "    return rad_real"
   ]
  },
  {
   "cell_type": "code",
   "execution_count": 14,
   "metadata": {},
   "outputs": [],
   "source": [
    "def create_photosphere_map(spot_sizes_, faculae_size, lon, lat, photosphere_id, spots_id):\n",
    "\n",
    "    fig = plt.figure(figsize=[5.,2.5], dpi = 72)# This makes a 360x180 map in Jupyter. Brute force, but it works...\n",
    "    proj = ccrs.PlateCarree()\n",
    "    ax = plt.axes(projection = proj, fc = 'r')\n",
    "    \n",
    "    canvas = FigureCanvas(fig)    \n",
    "    plt.gca().set_position([0, 0, 1, 1])\n",
    "    \n",
    "    ax.set_global()\n",
    "    ax.outline_patch.set_linewidth(0.)\n",
    "    ax.set_extent([-180, 180, -90, 90])\n",
    "\n",
    "    for ii in range(len(spot_sizes_)):\n",
    "\n",
    "#        add_faculae=ax.tissot(rad_km=faculae_size[ii], lons=lon[ii], lats=lat[ii], n_samples=500, fc='b', alpha=0.5)\n",
    "        add_spots = ax.tissot(rad_km=spot_sizes_[ii], lons=lon[ii], lats=lat[ii], n_samples=500, fc='r', alpha=0.1)\n",
    "#         XXXXXX\n",
    "#         THIS IS WRONG!!!!\n",
    "        \n",
    "    canvas.draw()       # draw the canvas, cache the renderer \n",
    "    s, (width, height) = canvas.print_to_buffer() \n",
    "#    img_ = np.fromstring(s, np.uint8).reshape((height, width, 4))\n",
    "    img_ = np.frombuffer(s, np.uint8).reshape((height, width, 4))\n",
    "        \n",
    "#    photosphere_id = 0.25\n",
    "#    spots_id = 0.04          \n",
    "    photosphere = 1. + np.zeros((img_.shape[0],img_.shape[1]))\n",
    "    photosphere[img_[:,:,3] != 0] = photosphere_id#0.05\n",
    "    photosphere[img_[:,:,2] != 255] = spots_id#0.45\n",
    "        \n",
    "    plt.close()\n",
    "#    plt.show()\n",
    "    return photosphere"
   ]
  },
  {
   "cell_type": "code",
   "execution_count": 15,
   "metadata": {},
   "outputs": [],
   "source": [
    "#photosphere_id = 0.25\n",
    "#spots_id = 0.04 \n",
    "#planet_id = -1.\n",
    "#spot_lat_ = -60. + 120*np.random.random(number_of_spots)\n",
    "#spot_lon_ = -180 + 360.*np.random.random(number_of_spots)\n",
    "#spot_sizes_ = spot_sizes(area_covered, number_of_spots, aspect_ratio)\n",
    "#faculae_size = 1.5*spot_sizes_\n",
    "#star_map = create_photosphere_map(spot_sizes_, faculae_size, spot_lon_, spot_lat_, photosphere_id, spots_id)\n",
    "#print(star_map.shape)\n",
    "#plt.imshow(star_map)"
   ]
  },
  {
   "cell_type": "code",
   "execution_count": 16,
   "metadata": {},
   "outputs": [],
   "source": [
    "def rotate_star(star_map, lon, do_plot_, add_planet_, photosphere_id, spots_id):\n",
    "\n",
    "    n_rot_phases = len(lon)\n",
    "#    lon = np.linspace(0.,360, n_rot_phases)\n",
    "\n",
    "    proj = ccrs.Orthographic(central_longitude=0., central_latitude=0.)\n",
    "    \n",
    "    tmp_arr = np.zeros((750,750,n_rot_phases))\n",
    "    \n",
    "    for ii in range(n_rot_phases):\n",
    "        if ii != 180.:\n",
    "            lon_min_, lon_max_ = -180+lon[ii], 180+lon[ii]\n",
    "        else:\n",
    "            lon_min_, lon_max_ = -180+lon[ii]+1e-1, 180+lon[ii]+1e-1\n",
    "        \n",
    "        plt.figure(figsize=(5,5))\n",
    "        ax = plt.axes(projection = proj, fc = 'r')\n",
    "        ax.outline_patch.set_linewidth(0.)\n",
    "\n",
    "        aa = ax.imshow(star_map, origin='upper', transform=ccrs.PlateCarree(), extent=[lon_min_, lon_max_, -90, 90], \\\n",
    "                    cmap='hot', vmin=-1., vmax=1.)\n",
    "        img_ = aa.get_array()        \n",
    "        photosphere = 1. + np.zeros((img_.shape[0],img_.shape[1]))\n",
    "#        photosphere_id = 0.25\n",
    "#        spots_id = 0.04 \n",
    "        photosphere[img_ == photosphere_id] = photosphere_id\n",
    "        photosphere[img_ == spots_id] = spots_id\n",
    "        \n",
    "        tmp_arr[:,:,ii] = photosphere        \n",
    "        \n",
    "#        rr_ = (Rp_Rs*star_cube.shape[0])\n",
    "#        center_ = int(0.5*star_cube.shape[0])\n",
    "#        print(rr_, center_)    \n",
    "#        star_cube[center_ - rr_:center_ + rr_, 300:360, ii] = planet_id\n",
    "                \n",
    "        if do_plot_ == 'y':\n",
    "            plt.show()\n",
    "        else:\n",
    "            plt.close()\n",
    "            \n",
    "    return tmp_arr"
   ]
  },
  {
   "cell_type": "code",
   "execution_count": 17,
   "metadata": {},
   "outputs": [],
   "source": [
    "def fraction_covered_(star_cube, number_of_rotation_phases, photosphere_id, spots_id, planet_id):\n",
    "    \n",
    "    photosphere = photosphere_id\n",
    "    spots = spots_id\n",
    "    planet = planet_id\n",
    "    frac_photosphere = np.zeros(number_of_rotation_phases)\n",
    "    frac_spots = np.zeros(number_of_rotation_phases)\n",
    "    frac_planet = np.zeros(number_of_rotation_phases)\n",
    "    \n",
    "    for ii in range(number_of_rotation_phases):\n",
    "        area_visible_disk = star_cube[:,:,ii].copy()\n",
    "        area_visible_disk = star_cube[:,:,ii][star_cube[:,:,ii] != 1.].size\n",
    "        \n",
    "        frac_photosphere[ii] = float(star_cube[:,:,ii][star_cube[:,:,ii] == photosphere].size)\n",
    "        frac_photosphere[ii] = frac_photosphere[ii]/area_visible_disk\n",
    "        \n",
    "        frac_spots[ii] = float(star_cube[:,:,ii][star_cube[:,:,ii] == spots].size)\n",
    "        frac_spots[ii] = frac_spots[ii]/area_visible_disk\n",
    "        \n",
    "        frac_planet[ii] = float(star_cube[:,:,ii][star_cube[:,:,ii] == planet].size)\n",
    "        frac_planet[ii] = frac_planet[ii]/area_visible_disk\n",
    "                \n",
    "#    print(frac_photosphere)\n",
    "#    print(frac_spots)\n",
    "#    print(frac_planet)\n",
    "#    print(frac_photosphere + frac_spots + frac_planet)\n",
    "    \n",
    "    return frac_photosphere, frac_spots, frac_planet"
   ]
  },
  {
   "cell_type": "code",
   "execution_count": 18,
   "metadata": {},
   "outputs": [],
   "source": [
    "def make_flux_cube(star_cube, number_of_rotation_phases, photosphere_id, spots_id, planet_id):    \n",
    "    frac_photosphere, frac_spots, frac_planet = \\\n",
    "    fraction_covered_(star_cube, number_of_rotation_phases, photosphere_id, spots_id, planet_id)\n",
    "    frac_covered = np.vstack((frac_photosphere, frac_spots)).T\n",
    "    \n",
    "#    print(frac_photosphere)\n",
    "#    print(frac_spots)\n",
    "#    print(frac_planet)\n",
    "#    print()\n",
    "\n",
    "#    lc_IR = frac_covered[:,0]*np.sum(stellar_flux_model_interp_Teff_IR) + \\\n",
    "#    frac_covered[:,1]*np.sum(stellar_flux_model_interp_spots_IR)\n",
    "#    phase_max_ = lc_IR.argmax()\n",
    "#    phase_min_ = lc_IR.argmin()\n",
    "#\n",
    "    flux_cube = np.zeros((number_of_rotation_phases, len(stellar_flux_model_interp_Teff_IR)))\n",
    "\n",
    "    for ii in range(number_of_rotation_phases):\n",
    "        flux_cube[ii,:] = frac_covered[ii,0]*stellar_flux_model_interp_Teff_IR + \\\n",
    "        frac_covered[ii,1]*stellar_flux_model_interp_spots_IR\n",
    "#\n",
    "    rot_phase_ = np.linspace(0.,360, number_of_rotation_phases)/360.\n",
    "    \n",
    "    return flux_cube "
   ]
  },
  {
   "cell_type": "code",
   "execution_count": 19,
   "metadata": {},
   "outputs": [],
   "source": [
    "def make_diff_flux_(ii, tdepth_,flux_cube_orbit_1, flux_cube_orbit_2, flux_cube_orbit_3, flux_cube_orbit_4, idx_HST):\n",
    "\n",
    "    if (ii+1 != 4) & (ii+1 != 8):                    \n",
    "        itr_flux_ = (1.-0.*tdepth_)*np.mean(np.vstack((flux_cube_orbit_2,flux_cube_orbit_3)), axis = 0)\n",
    "        oot_flux_ = np.mean(np.vstack((flux_cube_orbit_1,flux_cube_orbit_4)), axis = 0)  \n",
    "    if ii+1 == 4:\n",
    "        itr_flux_ = (1.-0.*tdepth_)*np.mean(flux_cube_orbit_3, axis = 0)\n",
    "        oot_flux_ = np.mean(np.vstack((flux_cube_orbit_1,flux_cube_orbit_3,flux_cube_orbit_4)), axis = 0)  \n",
    "    if ii+1 == 8:\n",
    "        itr_flux_ = (1.-0.*tdepth_)*np.mean(np.vstack((flux_cube_orbit_3,flux_cube_orbit_4)), axis = 0)\n",
    "        oot_flux_ = np.mean(np.vstack((flux_cube_orbit_1,flux_cube_orbit_2)), axis = 0)\n",
    "#\n",
    "    diff_flux_ = 1e6*(oot_flux_[idx_HST] - itr_flux_[idx_HST])/oot_flux_[idx_HST]\n",
    "#    diff_flux_arr_[ii,:] = 1e6*(oot_flux_[idx_HST] - itr_flux_[idx_HST])/itr_flux_[idx_HST]\n",
    "\n",
    "    return diff_flux_"
   ]
  },
  {
   "cell_type": "code",
   "execution_count": 20,
   "metadata": {},
   "outputs": [],
   "source": [
    "def add_two_planet_transits_(ii, star_cube_t1, star_cube_t2, observations_per_orbit_):\n",
    "    \n",
    "    area_visible_disk = star_cube_t1[:,:,0][star_cube_t1[:,:,0] != 1.].size\n",
    "#    rr_ = int(Rp_Rs*0.5*star_cube.shape[0])\n",
    "    rr_ = int(0.5*np.ceil(np.sqrt(area_visible_disk*Rp_Rs**2)))\n",
    "    center_ = int(0.5*star_cube.shape[0])\n",
    "    pixels_per_obs_ = int(pixels_per_HST_visit_round_of_10/(observations_per_orbit_-1))\n",
    "#    pixels_per_obs_ = 50 # FIXED\n",
    "#\n",
    "    if ii+1 != 8:        \n",
    "        for oo in range(observations_per_orbit_):            \n",
    "#            obs_2_indiv_ = center_-125 + (oo-5)*pixels_per_obs_\n",
    "#            obs_3_indiv_ = center_+125 + (oo-5)*pixels_per_obs_\n",
    "            obs_2_indiv_ = center_-25 + (oo-observations_per_orbit_)*pixels_per_obs_\n",
    "            obs_3_indiv_ = center_+(-25+425) + (oo-observations_per_orbit_)*pixels_per_obs_            \n",
    "#            print(pixels_per_obs_, obs_2_indiv_, obs_3_indiv_)  \n",
    "\n",
    "            star_cube_t1[center_-rr_:center_+rr_, obs_2_indiv_-rr_:obs_2_indiv_+rr_, oo] = planet_id\n",
    "            star_cube_t2[center_-rr_:center_+rr_, obs_3_indiv_-rr_:obs_3_indiv_+rr_, oo] = planet_id\n",
    "#            print(rr_)\n",
    "#            print(star_cube_t1.shape)\n",
    "#            area_visible_disk = star_cube_t1[:,:,oo][star_cube_t1[:,:,oo] != 1.].size\n",
    "#            area_planet = star_cube_t1[:,:,oo][star_cube_t1[:,:,oo] == planet_id].size\n",
    "#            print(area_visible_disk, area_planet, area_planet/area_visible_disk)\n",
    "#            print(star_cube_t1[center_-rr_:center_+rr_, obs_2_indiv_-rr_:obs_2_indiv_+rr_, oo].shape)\n",
    "#        xxx            \n",
    "    else:\n",
    "        for oo in range(observations_per_orbit_):              \n",
    "#            obs_3_indiv_ = center_-125 + (oo-5)*pixels_per_obs_\n",
    "#            obs_4_indiv_ = center_+125  + (oo-5)*pixels_per_obs_\n",
    "            obs_3_indiv_ = center_-25 + (oo-observations_per_orbit_)*pixels_per_obs_\n",
    "            obs_4_indiv_ = center_+(-25+425) + (oo-observations_per_orbit_)*pixels_per_obs_            \n",
    "\n",
    "            star_cube_t1[center_-rr_:center_+rr_, obs_3_indiv_-rr_:obs_3_indiv_+rr_, oo] = planet_id\n",
    "            star_cube_t2[center_-rr_:center_+rr_, obs_4_indiv_-rr_:obs_4_indiv_+rr_, oo] = planet_id\n",
    "        \n",
    "#   for oo in range(observations_per_orbit_):        \n",
    "#       fig = plt.figure(figsize=(10,5))\n",
    "#       grid = plt.GridSpec(observations_per_orbit_, 2, wspace=0.3, hspace=0.3)\n",
    "#       plt.subplot(grid[oo,0])\n",
    "#       plt.imshow(star_cube_orbit_2[:,:,oo])\n",
    "            \n",
    "#       plt.subplot(grid[oo,1])\n",
    "#       plt.imshow(star_cube_orbit_3[:,:,oo])\n",
    "#       plt.show()\n",
    "    \n",
    "    return star_cube_t1, star_cube_t2"
   ]
  },
  {
   "cell_type": "code",
   "execution_count": 21,
   "metadata": {},
   "outputs": [],
   "source": [
    "def add_one_planet_transits_(ii, star_cube, observations_per_orbit_):\n",
    "    \n",
    "    area_visible_disk = star_cube[:,:,0][star_cube[:,:,0] != 1.].size\n",
    "#    rr_ = int(Rp_Rs*0.5*star_cube.shape[0])\n",
    "    rr_ = int(0.5*np.ceil(np.sqrt(area_visible_disk*Rp_Rs**2)))\n",
    "    center_ = int(0.5*star_cube.shape[0])\n",
    "    pixels_per_obs_ = int(pixels_per_HST_visit_round_of_10/(observations_per_orbit_-1))\n",
    "#    pixels_per_obs_ = 50 # FIXED\n",
    "#\n",
    "    for oo in range(observations_per_orbit_):\n",
    "        obs_3_indiv_ = center_ + (oo-observations_per_orbit_)*pixels_per_obs_\n",
    "        star_cube[center_-rr_:center_+rr_, obs_3_indiv_-rr_:obs_3_indiv_+rr_, oo] = planet_id           \n",
    "    \n",
    "    return star_cube"
   ]
  },
  {
   "cell_type": "code",
   "execution_count": 22,
   "metadata": {
    "scrolled": false
   },
   "outputs": [],
   "source": [
    "def many_visits_random_photosphere(number_of_spots, area_covered, add_planet, number_of_visits_, nn, show_full_lc_, \\\n",
    "                                  plot_individual_visits_, show_rotated_star_map_, observations_per_orbit_):\n",
    "\n",
    "#    number_of_visits_ = 8\n",
    "    diff_flux_arr_ = np.zeros((number_of_visits_, len(idx_HST)))\n",
    "    mean_subtracted_diff_flux_arr_ = np.zeros((number_of_visits_, len(idx_HST)))\n",
    "    mean_subtracted_binned_spec_per_visit = np.zeros((number_of_visits_, 17))\n",
    "    per_bin_errors_ = np.random.uniform(-30.,30, size = (number_of_visits_,17))\n",
    "\n",
    "    star_map_all_visits_ = np.zeros((180, 360, number_of_visits_))\n",
    "    \n",
    "    photosphere_id = 0.25\n",
    "    spots_id = 0.04 \n",
    "    planet_id = -1.\n",
    "    \n",
    "    phase_transit_ = np.zeros(number_of_visits_)\n",
    "    \n",
    "    for ii in range(number_of_visits_):\n",
    "#    \n",
    "        spot_lat_ = -60. + 120*np.random.random(number_of_spots)\n",
    "        spot_lon_ = -180 + 360.*np.random.random(number_of_spots)\n",
    "        spot_sizes_ = spot_sizes(area_covered, number_of_spots, aspect_ratio)\n",
    "        faculae_size = 1.5*spot_sizes_\n",
    "        star_map = create_photosphere_map(spot_sizes_, faculae_size, spot_lon_, spot_lat_, photosphere_id, spots_id)\n",
    "        star_map_all_visits_[:,:,ii] = star_map\n",
    "#       \n",
    "        phase_ = 2.*Degrees_stellar_rotation_per_HST_orbit_*np.linspace(0,3,4) + np.random.uniform(357.5)\n",
    "        number_of_rotation_phases = len(phase_)\n",
    "#        print(ii, phase_)\n",
    "        \n",
    "        phase_transit_[ii] = phase_[0]\n",
    "        \n",
    "        pp_tmp_ = Degrees_stellar_rotation_per_HST_orbit_/observations_per_orbit_        \n",
    "        phases_per_orbit_ = np.zeros((len(phase_),observations_per_orbit_))\n",
    "        for pp_ in range(len(phase_)):\n",
    "            phases_per_orbit_[pp_,:] = phase_[pp_] + (pp_tmp_)*np.linspace(-observations_per_orbit_/2,\\\n",
    "                                                                           observations_per_orbit_/2,\\\n",
    "                                                                           observations_per_orbit_)\n",
    "#            \n",
    "        do_plot_ = 'n'\n",
    "        star_cube_orbit_1 = rotate_star(star_map,phases_per_orbit_[0,:],do_plot_,add_planet,photosphere_id,spots_id)\n",
    "        star_cube_orbit_2 = rotate_star(star_map,phases_per_orbit_[1,:],do_plot_,add_planet,photosphere_id,spots_id)\n",
    "        star_cube_orbit_3 = rotate_star(star_map,phases_per_orbit_[2,:],do_plot_,add_planet,photosphere_id,spots_id)\n",
    "        star_cube_orbit_4 = rotate_star(star_map,phases_per_orbit_[3,:],do_plot_,add_planet,photosphere_id,spots_id)\n",
    "        \n",
    "        if (ii+1 != 4) & (ii+1 != 8):\n",
    "            star_cube_orbit_2, star_cube_orbit_3 = \\\n",
    "            add_two_planet_transits_(ii, star_cube_orbit_2, star_cube_orbit_3, observations_per_orbit_)\n",
    "        if ii+1 == 4:\n",
    "            star_cube_orbit_3 = \\\n",
    "            add_one_planet_transits_(ii, star_cube_orbit_3, observations_per_orbit_)\n",
    "        if ii+1 == 8:\n",
    "            star_cube_orbit_3, star_cube_orbit_4 = \\\n",
    "            add_two_planet_transits_(ii, star_cube_orbit_3, star_cube_orbit_4, observations_per_orbit_)\n",
    "#\n",
    "#\n",
    "        pp_ = observations_per_orbit_\n",
    "        flux_cube_orbit_1 = make_flux_cube(star_cube_orbit_1, pp_, photosphere_id, spots_id, planet_id)\n",
    "        flux_cube_orbit_2 = make_flux_cube(star_cube_orbit_2, pp_, photosphere_id, spots_id, planet_id)\n",
    "        flux_cube_orbit_3 = make_flux_cube(star_cube_orbit_3, pp_, photosphere_id, spots_id, planet_id)\n",
    "        flux_cube_orbit_4 = make_flux_cube(star_cube_orbit_4, pp_, photosphere_id, spots_id, planet_id)\n",
    "        \n",
    "        diff_flux_arr_[ii,:] = \\\n",
    "        make_diff_flux_(ii, tdepth_,flux_cube_orbit_1, flux_cube_orbit_2, flux_cube_orbit_3, flux_cube_orbit_4, \\\n",
    "                        idx_HST)\n",
    "\n",
    "        mean_subtracted_diff_flux_arr_[ii,:] = diff_flux_arr_[ii,:] - np.nanmean(diff_flux_arr_[ii,:]) \n",
    "#    \n",
    "        bin_means,bin_edges,binnumber = \\\n",
    "        stats.binned_statistic(filter_IR[idx_HST],mean_subtracted_diff_flux_arr_[ii,:],statistic='mean', bins=17)\n",
    "    \n",
    "        bin_width = (bin_edges[1] - bin_edges[0])\n",
    "        bin_centers_ = bin_edges[1:] - bin_width/2\n",
    "\n",
    "        mean_subtracted_binned_spec_per_visit[ii,:] =  bin_means + 0.*per_bin_errors_[ii,:]\n",
    "#        \n",
    "        if show_rotated_star_map_ == 'y':\n",
    "            save_fig = 'n'            \n",
    "            aa = fig_rotated_star_map_(phase_, \\\n",
    "                                       star_cube_orbit_1, star_cube_orbit_2, star_cube_orbit_3, star_cube_orbit_4, \\\n",
    "                                       nn, ii, observations_per_orbit_, save_fig)\n",
    "#       \n",
    "        if show_full_lc_ == 'y':\n",
    "            save_fig = 'n'\n",
    "            lc_transit_ = np.hstack((np.sum(flux_cube_orbit_1, axis = 1), \n",
    "                                    np.sum(flux_cube_orbit_2, axis = 1), \n",
    "                                    np.sum(flux_cube_orbit_3, axis = 1), \n",
    "                                    np.sum(flux_cube_orbit_4, axis = 1)))\n",
    "                        \n",
    "            phase_full_rotation = np.linspace(0.,359., 20)\n",
    "            do_plot_\n",
    "            star_cube_full_rotation = \\\n",
    "            rotate_star(star_map, phase_full_rotation, do_plot_, add_planet_, photosphere_id, spots_id)\n",
    "            flux_cube_full_rotation = \\\n",
    "            make_flux_cube(star_cube_full_rotation, len(phase_full_rotation), photosphere_id, spots_id, planet_id)\n",
    "\n",
    "            lc_full = np.zeros((flux_cube_full_rotation.shape[0]))\n",
    "            for kk in range(len(lc_full)):\n",
    "                lc_full[kk] = np.sum(flux_cube_full_rotation[kk,:])\n",
    "                        \n",
    "            aa = fig_full_lc_(phase_full_rotation, lc_full/lc_transit_[0], \\\n",
    "                              phases_per_orbit_.flatten(), lc_transit_/lc_transit_[0], nn, ii, save_fig)\n",
    "#\n",
    "#\n",
    "    averaged_spec_all_visits_ = np.nanmean(mean_subtracted_diff_flux_arr_, axis = 0)\n",
    "    averaged_spec_all_visits_binned_ = np.nanmean(mean_subtracted_binned_spec_per_visit, axis = 0)\n",
    "#\n",
    "    if plot_individual_visits_ == 'y':\n",
    "        save_fig = 'y'\n",
    "        aa = fig_plot_individual_visits(number_of_visits_, filter_IR[idx_HST], mean_subtracted_diff_flux_arr_, \\\n",
    "                              bin_centers_, mean_subtracted_binned_spec_per_visit, nn, save_fig)\n",
    "#\n",
    "    plot_averaged_spec_all_visits_ = 'y'\n",
    "    if plot_averaged_spec_all_visits_ == 'y':\n",
    "        save_fig = 'y'\n",
    "        aa=fig_plot_averaged_spec_all_visits_(bin_centers_, averaged_spec_all_visits_binned_, \\\n",
    "                                              normalized_HST_depths_, nn, save_fig)\n",
    "\n",
    "#    plt.savefig('tmp_1.png')\n",
    "    return mean_subtracted_diff_flux_arr_,mean_subtracted_binned_spec_per_visit,bin_centers_,\\\n",
    "star_map_all_visits_,phase_transit_"
   ]
  },
  {
   "cell_type": "code",
   "execution_count": 23,
   "metadata": {},
   "outputs": [],
   "source": [
    "def many_visits_same_photosphere(star_map,add_planet,number_of_visits_,nn,show_full_lc_,lc_full,phase_full_rotation,\\\n",
    "                                plot_individual_visits_, show_rotated_star_map_, load_phase_transit, phase_load, \\\n",
    "                                observations_per_orbit_, add_noise_):\n",
    "\n",
    "    diff_flux_arr_ = np.zeros((number_of_visits_, len(idx_HST)))\n",
    "    mean_subtracted_diff_flux_arr_ = np.zeros((number_of_visits_, len(idx_HST)))\n",
    "    mean_subtracted_binned_spec_per_visit = np.zeros((number_of_visits_, 17))\n",
    "    per_bin_errors_ = np.random.uniform(-30.,30, size = (number_of_visits_,17))\n",
    "\n",
    "    photosphere_id = 0.25\n",
    "    spots_id = 0.04 \n",
    "    planet_id = -1.\n",
    "    \n",
    "    if load_phase_transit == 'n':    \n",
    "        phase_transit_ = np.zeros(number_of_visits_)\n",
    "        \n",
    "    for ii in range(number_of_visits_):\n",
    "    \n",
    "        if load_phase_transit == 'n':\n",
    "#            phase_ = 0.67*np.linspace(0,3,4) + np.random.uniform(357.5)\n",
    "            phase_ = 2.*Degrees_stellar_rotation_per_HST_orbit_*np.linspace(0,3,4) + np.random.uniform(357.5)\n",
    "            phase_transit_[ii] = phase_[0]\n",
    "        else:\n",
    "#            phase_ = 0.67*np.linspace(0,3,4) + phase_load[ii]\n",
    "            phase_ = 2.*Degrees_stellar_rotation_per_HST_orbit_*np.linspace(0,3,4) + phase_load[ii]\n",
    "            phase_transit_ = phase_load\n",
    "#\n",
    "#\n",
    "#        observations_per_orbit_ = 2\n",
    "        pp_tmp_ = Degrees_stellar_rotation_per_HST_orbit_/observations_per_orbit_\n",
    "        \n",
    "        phases_per_orbit_ = np.zeros((len(phase_),observations_per_orbit_))\n",
    "        for pp_ in range(len(phase_)):\n",
    "            phases_per_orbit_[pp_,:] = phase_[pp_] + (pp_tmp_)*np.linspace(-observations_per_orbit_/2,\\\n",
    "                                                                           observations_per_orbit_/2,\\\n",
    "                                                                           observations_per_orbit_)\n",
    "#        xxxx\n",
    "        \n",
    "        \n",
    "        do_plot_ = 'n'\n",
    "        star_cube_orbit_1 = rotate_star(star_map,phases_per_orbit_[0,:],do_plot_,add_planet,photosphere_id,spots_id)\n",
    "        star_cube_orbit_2 = rotate_star(star_map,phases_per_orbit_[1,:],do_plot_,add_planet,photosphere_id,spots_id)      \n",
    "        star_cube_orbit_3 = rotate_star(star_map,phases_per_orbit_[2,:],do_plot_,add_planet,photosphere_id,spots_id)\n",
    "        star_cube_orbit_4 = rotate_star(star_map,phases_per_orbit_[3,:],do_plot_,add_planet,photosphere_id,spots_id)\n",
    "#\n",
    "#\n",
    "        if add_planet == 'y':\n",
    "            if (ii+1 != 4) & (ii+1 != 8):\n",
    "                star_cube_orbit_2, star_cube_orbit_3 = \\\n",
    "                add_two_planet_transits_(ii, star_cube_orbit_2, star_cube_orbit_3, observations_per_orbit_)            \n",
    "            if ii+1 == 4:\n",
    "                star_cube_orbit_3 = \\\n",
    "                add_one_planet_transits_(ii, star_cube_orbit_3, observations_per_orbit_)\n",
    "            if ii+1 == 8:\n",
    "                star_cube_orbit_3, star_cube_orbit_4 = \\\n",
    "                add_two_planet_transits_(ii, star_cube_orbit_3, star_cube_orbit_4, observations_per_orbit_)\n",
    "#\n",
    "#\n",
    "\n",
    "\n",
    "#        plt.figure(figsize=(10,20))\n",
    "#        plt.subplot(421)\n",
    "#        plt.imshow(star_cube_orbit_2[:,:,0], cmap='hot', vmin=-1., vmax=1.)\n",
    "        \n",
    "#        plt.subplot(422)\n",
    "#        plt.imshow(star_cube_orbit_3[:,:,0], cmap='hot', vmin=-1., vmax=1.)\n",
    "        \n",
    "#        plt.subplot(423)\n",
    "#        plt.imshow(star_cube_orbit_2[:,:,1], cmap='hot', vmin=-1., vmax=1.)\n",
    "        \n",
    "#        plt.subplot(424)\n",
    "#        plt.imshow(star_cube_orbit_3[:,:,1], cmap='hot', vmin=-1., vmax=1.)\n",
    "\n",
    "#        plt.subplot(425)\n",
    "#        plt.imshow(star_cube_orbit_2[:,:,2], cmap='hot', vmin=-1., vmax=1.)\n",
    "        \n",
    "#        plt.subplot(426)\n",
    "#        plt.imshow(star_cube_orbit_3[:,:,2], cmap='hot', vmin=-1., vmax=1.)\n",
    "\n",
    "#        plt.subplot(427)\n",
    "#        plt.imshow(star_cube_orbit_2[:,:,3], cmap='hot', vmin=-1., vmax=1.)\n",
    "        \n",
    "#        plt.subplot(428)\n",
    "#        plt.imshow(star_cube_orbit_3[:,:,3], cmap='hot', vmin=-1., vmax=1.)\n",
    "#        xxxx\n",
    "        pp_ = observations_per_orbit_    \n",
    "        flux_cube_orbit_1 = make_flux_cube(star_cube_orbit_1, pp_, photosphere_id, spots_id, planet_id)\n",
    "        flux_cube_orbit_2 = make_flux_cube(star_cube_orbit_2, pp_, photosphere_id, spots_id, planet_id)\n",
    "        flux_cube_orbit_3 = make_flux_cube(star_cube_orbit_3, pp_, photosphere_id, spots_id, planet_id)\n",
    "        flux_cube_orbit_4 = make_flux_cube(star_cube_orbit_4, pp_, photosphere_id, spots_id, planet_id)        \n",
    "#\n",
    "#\n",
    "        diff_flux_arr_[ii,:] = make_diff_flux_(ii, tdepth_,flux_cube_orbit_1, flux_cube_orbit_2, \\\n",
    "                                               flux_cube_orbit_3, flux_cube_orbit_4, idx_HST)\n",
    "#    \n",
    "        mean_subtracted_diff_flux_arr_[ii,:] = diff_flux_arr_[ii,:] - 0.*np.nanmean(diff_flux_arr_[ii,:])\n",
    "#    \n",
    "\n",
    "#        plt.plot(diff_flux_arr_[ii,:])\n",
    "#        xxxx\n",
    "\n",
    "        bin_means,bin_edges,binnumber = \\\n",
    "        stats.binned_statistic(filter_IR[idx_HST],mean_subtracted_diff_flux_arr_[ii,:],statistic='mean', bins=17)\n",
    "    \n",
    "        bin_width = (bin_edges[1] - bin_edges[0])\n",
    "        bin_centers_ = bin_edges[1:] - bin_width/2\n",
    "\n",
    "        if add_noise_ == 'y':        \n",
    "            mean_subtracted_binned_spec_per_visit[ii,:] =  bin_means + 1.*per_bin_errors_[ii,:]\n",
    "        else:\n",
    "            mean_subtracted_binned_spec_per_visit[ii,:] =  bin_means + 0.*per_bin_errors_[ii,:]\n",
    "#        \n",
    "        if show_rotated_star_map_ == 'y':\n",
    "            save_fig = 'n'            \n",
    "            aa = fig_rotated_star_map_(phase_, \\\n",
    "                                       star_cube_orbit_1, star_cube_orbit_2, star_cube_orbit_3, star_cube_orbit_4, \\\n",
    "                                       nn, ii, observations_per_orbit_, save_fig)\n",
    "#\n",
    "        if show_full_lc_ == 'y':\n",
    "            save_fig = 'n'\n",
    "            lc_transit_ = np.hstack((np.sum(flux_cube_orbit_1, axis = 1), \n",
    "                                    np.sum(flux_cube_orbit_2, axis = 1), \n",
    "                                    np.sum(flux_cube_orbit_3, axis = 1), \n",
    "                                    np.sum(flux_cube_orbit_4, axis = 1)))\n",
    "            \n",
    "            aa = fig_full_lc_(phase_full_rotation, lc_full/lc_transit_[0], \\\n",
    "                              phases_per_orbit_.flatten(), lc_transit_/lc_transit_[0], nn, ii, save_fig)\n",
    "#\n",
    "#\n",
    "    averaged_spec_all_visits_ = np.nanmean(mean_subtracted_diff_flux_arr_, axis = 0)\n",
    "    averaged_spec_all_visits_binned_ = np.nanmean(mean_subtracted_binned_spec_per_visit, axis = 0)\n",
    "#\n",
    "#\n",
    "    if plot_individual_visits_ == 'y':\n",
    "        save_fig = 'n'\n",
    "        aa = fig_plot_individual_visits(number_of_visits_, filter_IR[idx_HST], mean_subtracted_diff_flux_arr_, \\\n",
    "                              bin_centers_, mean_subtracted_binned_spec_per_visit, nn, save_fig)\n",
    "#\n",
    "    plot_averaged_spec_all_visits_ = 'y'\n",
    "    if plot_averaged_spec_all_visits_ == 'y':\n",
    "        save_fig = 'y'\n",
    "        aa=fig_plot_averaged_spec_all_visits_(bin_centers_, averaged_spec_all_visits_binned_, \\\n",
    "                                              normalized_HST_depths_, nn, save_fig)\n",
    "#\n",
    "    return mean_subtracted_diff_flux_arr_, mean_subtracted_binned_spec_per_visit, bin_centers_, phase_transit_"
   ]
  },
  {
   "cell_type": "code",
   "execution_count": 24,
   "metadata": {},
   "outputs": [],
   "source": [
    "load_chi_sq_ = 'n'\n",
    "\n",
    "if load_chi_sq_ == 'y':\n",
    "    reduced_chi_sq_ = np.load('reduced_chi_sq_42820.npy')\n",
    "\n",
    "    min_idx_ = reduced_chi_sq_.argmin()\n",
    "    spot_crossings_idx_ = np.asarray([])#0,2,3,5,7,17,21,27,30,35,39,43,44,45,46,47,62,64,65,66,74,84,85,91,98])\n",
    "    print(reduced_chi_sq_, min(reduced_chi_sq_), max(reduced_chi_sq_))    \n",
    "    idx_, = np.where(reduced_chi_sq_ < 17.)\n",
    "    #print(len(idx_), idx_)\n",
    "    \n",
    "    n_bins = int(max(reduced_chi_sq_) - min(reduced_chi_sq_))\n",
    "#    n_bins_spot_crossings_ = int(max(reduced_chi_sq_[spot_crossings_idx_]) - min(reduced_chi_sq_[spot_crossings_idx_]))\n",
    "\n",
    "    fig = plt.figure(figsize=(20,5))\n",
    "    plt.hist(reduced_chi_sq_, bins = 20, fc = None, ec = 'b', hatch = '\\\\', alpha = 0.25, label = 'All simulations')\n",
    "#    plt.hist(reduced_chi_sq_[spot_crossings_idx_], bins = n_bins_spot_crossings_//1, hatch = '/', fc = None, \\\n",
    "#             ec = 'r', alpha = 0.25, label = \\\n",
    "#             'Simulations with Spot Crossings (~' + str(int(100*len(spot_crossings_idx_)/len(reduced_chi_sq_))) + '%)')\n",
    "    plt.xlabel('Reduced Chi-square', fontsize = 18)\n",
    "    plt.ylabel('Number of simulations', fontsize = 18)\n",
    "    plt.legend(loc = 'best', fontsize = 14)\n",
    "    plt.show()"
   ]
  },
  {
   "cell_type": "code",
   "execution_count": 25,
   "metadata": {
    "scrolled": false
   },
   "outputs": [
    {
     "ename": "FileNotFoundError",
     "evalue": "[Errno 2] No such file or directory: 'star_map_file_42820.npy'",
     "output_type": "error",
     "traceback": [
      "\u001b[0;31m---------------------------------------------------------------------------\u001b[0m",
      "\u001b[0;31mFileNotFoundError\u001b[0m                         Traceback (most recent call last)",
      "\u001b[0;32m<ipython-input-25-da22b47c62b8>\u001b[0m in \u001b[0;36m<module>\u001b[0;34m\u001b[0m\n\u001b[1;32m     56\u001b[0m             \u001b[0mstar_map_file\u001b[0m \u001b[0;34m=\u001b[0m \u001b[0;34m'star_map_file_42820.npy'\u001b[0m\u001b[0;31m#.npy'#\u001b[0m\u001b[0;34m\u001b[0m\u001b[0;34m\u001b[0m\u001b[0m\n\u001b[1;32m     57\u001b[0m             \u001b[0mphase_file\u001b[0m \u001b[0;34m=\u001b[0m \u001b[0;34m'phase_file_42820.npy'\u001b[0m\u001b[0;31m#.npy'#_041620.npy'\u001b[0m\u001b[0;34m\u001b[0m\u001b[0;34m\u001b[0m\u001b[0m\n\u001b[0;32m---> 58\u001b[0;31m             \u001b[0mstar_map_load\u001b[0m\u001b[0;34m,\u001b[0m \u001b[0mphase_transit_load\u001b[0m \u001b[0;34m=\u001b[0m \u001b[0mnp\u001b[0m\u001b[0;34m.\u001b[0m\u001b[0mload\u001b[0m\u001b[0;34m(\u001b[0m\u001b[0mstar_map_file\u001b[0m\u001b[0;34m)\u001b[0m\u001b[0;34m,\u001b[0m \u001b[0mnp\u001b[0m\u001b[0;34m.\u001b[0m\u001b[0mload\u001b[0m\u001b[0;34m(\u001b[0m\u001b[0mphase_file\u001b[0m\u001b[0;34m)\u001b[0m\u001b[0;34m\u001b[0m\u001b[0;34m\u001b[0m\u001b[0m\n\u001b[0m\u001b[1;32m     59\u001b[0m \u001b[0;34m\u001b[0m\u001b[0m\n\u001b[1;32m     60\u001b[0m             \u001b[0midx_\u001b[0m \u001b[0;34m=\u001b[0m \u001b[0mmin_idx_\u001b[0m\u001b[0;31m#-1 FOR WATER FEATURE IN \"STAR_MAP_FILE.NPY\"\u001b[0m\u001b[0;34m\u001b[0m\u001b[0;34m\u001b[0m\u001b[0m\n",
      "\u001b[0;32m~/opt/anaconda3/lib/python3.7/site-packages/numpy/lib/npyio.py\u001b[0m in \u001b[0;36mload\u001b[0;34m(file, mmap_mode, allow_pickle, fix_imports, encoding)\u001b[0m\n\u001b[1;32m    426\u001b[0m         \u001b[0mown_fid\u001b[0m \u001b[0;34m=\u001b[0m \u001b[0;32mFalse\u001b[0m\u001b[0;34m\u001b[0m\u001b[0;34m\u001b[0m\u001b[0m\n\u001b[1;32m    427\u001b[0m     \u001b[0;32melse\u001b[0m\u001b[0;34m:\u001b[0m\u001b[0;34m\u001b[0m\u001b[0;34m\u001b[0m\u001b[0m\n\u001b[0;32m--> 428\u001b[0;31m         \u001b[0mfid\u001b[0m \u001b[0;34m=\u001b[0m \u001b[0mopen\u001b[0m\u001b[0;34m(\u001b[0m\u001b[0mos_fspath\u001b[0m\u001b[0;34m(\u001b[0m\u001b[0mfile\u001b[0m\u001b[0;34m)\u001b[0m\u001b[0;34m,\u001b[0m \u001b[0;34m\"rb\"\u001b[0m\u001b[0;34m)\u001b[0m\u001b[0;34m\u001b[0m\u001b[0;34m\u001b[0m\u001b[0m\n\u001b[0m\u001b[1;32m    429\u001b[0m         \u001b[0mown_fid\u001b[0m \u001b[0;34m=\u001b[0m \u001b[0;32mTrue\u001b[0m\u001b[0;34m\u001b[0m\u001b[0;34m\u001b[0m\u001b[0m\n\u001b[1;32m    430\u001b[0m \u001b[0;34m\u001b[0m\u001b[0m\n",
      "\u001b[0;31mFileNotFoundError\u001b[0m: [Errno 2] No such file or directory: 'star_map_file_42820.npy'"
     ]
    }
   ],
   "source": [
    "number_of_iterations_ = 1#25\n",
    "number_of_visits_ = 8\n",
    "observations_per_orbit_ = 4\n",
    "\n",
    "star_cube = np.zeros((750,750,4,number_of_iterations_))\n",
    "flux_cube = np.zeros((4, 2551, number_of_iterations_))\n",
    "mean_subtracted_diff_flux_arr_all_iterations_ = np.zeros((number_of_iterations_,number_of_visits_,\n",
    "                                                          len(filter_IR[idx_HST])))\n",
    "\n",
    "star_map = np.zeros((180, 360, number_of_iterations_))\n",
    "\n",
    "phase_transit_ = np.zeros((number_of_iterations_, number_of_visits_))\n",
    "\n",
    "photosphere_ = 'random'\n",
    "photosphere_ = 'same'\n",
    "load_phase_transit, load_star_map = 'y', 'y'#'n', 'n'#\n",
    "add_planet_ = 'y'#'y'\n",
    "add_noise_ = 'n'#'y'\n",
    "\n",
    "show_full_lc_ = 'n'#'n'\n",
    "plot_individual_visits_ = 'y'\n",
    "show_rotated_star_map_ = 'y'#'y'#\n",
    "\n",
    "for ii in range(number_of_iterations_):\n",
    "    \n",
    "    if photosphere_ == 'random':\n",
    "    \n",
    "        mean_subtracted_diff_flux_arr_,mean_subtracted_binned_spec_per_visit,bin_centers_,\\\n",
    "        star_map_tmp,phase_transit_tmp=many_visits_random_photosphere(number_of_spots,area_covered,add_planet_,\\\n",
    "                                                                      number_of_visits_,ii,show_full_lc_, \\\n",
    "                                                                      plot_individual_visits_, \\\n",
    "                                                                      show_rotated_star_map_, \\\n",
    "                                                                      observations_per_orbit_)        \n",
    "        phase_transit_[ii, :] = phase_transit_tmp\n",
    "        star_map[:,:,ii] = star_map_tmp\n",
    "        \n",
    "    if photosphere_ == 'same':\n",
    "        \n",
    "        spot_lat_ = -60. + 120*np.random.random(number_of_spots)\n",
    "        spot_lon_ = -180 + 360.*np.random.random(number_of_spots)\n",
    "        spot_sizes_ = spot_sizes(area_covered, number_of_spots, aspect_ratio)\n",
    "        faculae_size = 1.5*spot_sizes_ # WIP\n",
    "        \n",
    "        photosphere_id = 0.25\n",
    "        spots_id = 0.04 \n",
    "        planet_id = -1.\n",
    "        \n",
    "        do_plot_ = 'n'\n",
    "            \n",
    "        if (load_phase_transit == 'n') & (load_star_map == 'n'):\n",
    "            star_map_same = \\\n",
    "            create_photosphere_map(spot_sizes_,faculae_size,spot_lon_,spot_lat_,photosphere_id,spots_id)\n",
    "            phase_transit_load = -999.\n",
    "            \n",
    "        else:\n",
    "            star_map_file = 'star_map_file_42820.npy'#.npy'#\n",
    "            phase_file = 'phase_file_42820.npy'#.npy'#_041620.npy'\n",
    "            star_map_load, phase_transit_load = np.load(star_map_file), np.load(phase_file)\n",
    "            \n",
    "            idx_ = min_idx_#-1 FOR WATER FEATURE IN \"STAR_MAP_FILE.NPY\"\n",
    "            star_map_same, phase_transit_load = star_map_load[:,:,idx_], phase_transit_load[idx_,:]\n",
    "                        \n",
    "        phase_full_rotation = np.linspace(0.,359., 2)\n",
    "        \n",
    "        do_plot_ = 'n'\n",
    "        star_cube_full_rotation = \\\n",
    "        rotate_star(star_map_same, phase_full_rotation, do_plot_, add_planet_, photosphere_id, spots_id)\n",
    "        flux_cube_full_rotation = \\\n",
    "        make_flux_cube(star_cube_full_rotation, len(phase_full_rotation), photosphere_id, spots_id, planet_id)\n",
    "\n",
    "        lc_full = np.zeros((flux_cube_full_rotation.shape[0]))\n",
    "        for kk in range(len(lc_full)):\n",
    "            lc_full[kk] = np.sum(flux_cube_full_rotation[kk,:])\n",
    "            \n",
    "        mean_subtracted_diff_flux_arr_, mean_subtracted_binned_spec_per_visit, bin_centers_, phase_transit_tmp = \\\n",
    "        many_visits_same_photosphere(star_map_same, add_planet_, number_of_visits_, ii, show_full_lc_, lc_full, \\\n",
    "                                     phase_full_rotation, plot_individual_visits_, show_rotated_star_map_, \\\n",
    "                                     load_phase_transit, phase_transit_load, observations_per_orbit_,add_noise_)\n",
    "        \n",
    "        mean_subtracted_diff_flux_arr_all_iterations_[ii,:,:] = mean_subtracted_diff_flux_arr_\n",
    "        \n",
    "        phase_transit_[ii, :] = phase_transit_tmp\n",
    "        \n",
    "        star_map[:,:,ii] = star_map_same\n",
    "    \n",
    "    print('Iteration ', str(ii), '...done!')\n",
    "    \n",
    "save_output_ = 'n'\n",
    "\n",
    "if save_output_ == 'y':\n",
    "    today = date.today()\n",
    "    star_map_file = 'star_map_file_' + str(today.month) + str(today.day) + str(today.year-2000) + '.npy'\n",
    "    phase_file = 'phase_file_' + str(today.month) + str(today.day) + str(today.year-2000) + '.npy'\n",
    "    np.save(star_map_file, star_map)\n",
    "    np.save(phase_file, phase_transit_)"
   ]
  },
  {
   "cell_type": "code",
   "execution_count": null,
   "metadata": {},
   "outputs": [],
   "source": [
    "xxx"
   ]
  },
  {
   "cell_type": "code",
   "execution_count": 26,
   "metadata": {},
   "outputs": [
    {
     "data": {
      "image/png": "[encoded data removed]",
      "text/plain": [
       "<Figure size 1440x360 with 1 Axes>"
      ]
     },
     "metadata": {
      "needs_background": "light"
     },
     "output_type": "display_data"
    },
    {
     "name": "stdout",
     "output_type": "stream",
     "text": [
      "[160340.33444444]\n"
     ]
    }
   ],
   "source": [
    "mean_subtracted_binned_spec_per_visit = np.zeros((number_of_visits_, 17))\n",
    "per_bin_errors_ = np.random.uniform(-25.,25., size = (number_of_visits_,17))\n",
    "\n",
    "reduced_chi_sq_ = np.zeros((number_of_iterations_))\n",
    "\n",
    "for jj in range(number_of_iterations_):\n",
    "    mean_subtracted_diff_flux_arr_ITER_ = mean_subtracted_diff_flux_arr_all_iterations_[jj,:,:]\n",
    "    averaged_spec_all_visits_ = np.nanmean(mean_subtracted_diff_flux_arr_ITER_, axis = 0)\n",
    "\n",
    "    for vv in range(number_of_visits_):\n",
    "\n",
    "        bin_means,bin_edges,binnumber = \\\n",
    "        stats.binned_statistic(filter_IR[idx_HST],mean_subtracted_diff_flux_arr_ITER_[vv,:],statistic='mean', bins=17)\n",
    "    \n",
    "        bin_width = (bin_edges[1] - bin_edges[0])\n",
    "        bin_centers_ = bin_edges[1:] - bin_width/2\n",
    "    \n",
    "        add_noise_per_bin_ = 'n'#'y'\n",
    "        if add_noise_per_bin_ == 'y':        \n",
    "            mean_subtracted_binned_spec_per_visit[vv,:] =  bin_means + 1.*per_bin_errors_[vv,:]\n",
    "        else:\n",
    "            mean_subtracted_binned_spec_per_visit[vv,:] =  bin_means + 0.*per_bin_errors_[vv,:]\n",
    "\n",
    "    averaged_spec_all_visits_binned_ = np.nanmean(mean_subtracted_binned_spec_per_visit, axis = 0)\n",
    "\n",
    "    obs = normalized_HST_depths_\n",
    "    calc = averaged_spec_all_visits_binned_\n",
    "    reduced_chi_sq_[jj] = np.sum(((obs - calc)/depth_err_)**2)\n",
    "\n",
    "    fig = plt.figure(figsize=(20,5))\n",
    "    plt.plot(filter_IR[idx_HST], averaged_spec_all_visits_, 'gray', alpha = 0.5)\n",
    "    plt.plot(bin_centers_, averaged_spec_all_visits_binned_, 'rs-', ms = 7, lw = 15, alpha = 0.5, \\\n",
    "             label = 'Model; Reduced chisq = ' + str(np.round(reduced_chi_sq_,2)))\n",
    "    plt.errorbar(bin_centers_, normalized_HST_depths_, yerr = 1.*depth_err_, fmt = 'bs-', ms = 7, \\\n",
    "                 lw = 15, alpha = 0.5)\n",
    "#             label = 'K2-18 HST', lw = 15, alpha = 0.5)\n",
    "    plt.legend(fontsize = 14)\n",
    "    plt.show()\n",
    "print(reduced_chi_sq_)\n",
    "#today = date.today()\n",
    "#np.save('reduced_chi_sq_' + str(today.month) + str(today.day) + str(today.year-2000) + '.npy', reduced_chi_sq_)"
   ]
  },
  {
   "cell_type": "code",
   "execution_count": 27,
   "metadata": {},
   "outputs": [
    {
     "ename": "NameError",
     "evalue": "name 'xxx' is not defined",
     "output_type": "error",
     "traceback": [
      "\u001b[0;31m---------------------------------------------------------------------------\u001b[0m",
      "\u001b[0;31mNameError\u001b[0m                                 Traceback (most recent call last)",
      "\u001b[0;32m<ipython-input-27-38170c08cb45>\u001b[0m in \u001b[0;36m<module>\u001b[0;34m\u001b[0m\n\u001b[0;32m----> 1\u001b[0;31m \u001b[0mxxx\u001b[0m\u001b[0;34m\u001b[0m\u001b[0;34m\u001b[0m\u001b[0m\n\u001b[0m",
      "\u001b[0;31mNameError\u001b[0m: name 'xxx' is not defined"
     ]
    }
   ],
   "source": [
    "xxx"
   ]
  },
  {
   "cell_type": "code",
   "execution_count": 28,
   "metadata": {},
   "outputs": [
    {
     "ename": "NameError",
     "evalue": "name 'star_cube_full_rotation' is not defined",
     "output_type": "error",
     "traceback": [
      "\u001b[0;31m---------------------------------------------------------------------------\u001b[0m",
      "\u001b[0;31mNameError\u001b[0m                                 Traceback (most recent call last)",
      "\u001b[0;32m<ipython-input-28-a4764fff63ca>\u001b[0m in \u001b[0;36m<module>\u001b[0;34m\u001b[0m\n\u001b[1;32m      2\u001b[0m \u001b[0;34m\u001b[0m\u001b[0m\n\u001b[1;32m      3\u001b[0m \u001b[0mfig\u001b[0m\u001b[0;34m,\u001b[0m\u001b[0max\u001b[0m \u001b[0;34m=\u001b[0m \u001b[0mplt\u001b[0m\u001b[0;34m.\u001b[0m\u001b[0msubplots\u001b[0m\u001b[0;34m(\u001b[0m\u001b[0;34m)\u001b[0m\u001b[0;34m\u001b[0m\u001b[0;34m\u001b[0m\u001b[0m\n\u001b[0;32m----> 4\u001b[0;31m \u001b[0max\u001b[0m\u001b[0;34m.\u001b[0m\u001b[0mimshow\u001b[0m\u001b[0;34m(\u001b[0m\u001b[0mstar_cube_full_rotation\u001b[0m\u001b[0;34m[\u001b[0m\u001b[0;34m:\u001b[0m\u001b[0;34m,\u001b[0m\u001b[0;34m:\u001b[0m\u001b[0;34m,\u001b[0m\u001b[0;36m0\u001b[0m\u001b[0;34m]\u001b[0m\u001b[0;34m,\u001b[0m \u001b[0mcmap\u001b[0m \u001b[0;34m=\u001b[0m \u001b[0;34m'hot'\u001b[0m\u001b[0;34m,\u001b[0m \u001b[0mvmin\u001b[0m \u001b[0;34m=\u001b[0m \u001b[0;34m-\u001b[0m\u001b[0;36m1\u001b[0m\u001b[0;34m,\u001b[0m \u001b[0mvmax\u001b[0m \u001b[0;34m=\u001b[0m \u001b[0;36m1.\u001b[0m\u001b[0;34m,\u001b[0m \u001b[0morigin\u001b[0m \u001b[0;34m=\u001b[0m \u001b[0;34m'lower'\u001b[0m\u001b[0;34m)\u001b[0m\u001b[0;34m\u001b[0m\u001b[0;34m\u001b[0m\u001b[0m\n\u001b[0m\u001b[1;32m      5\u001b[0m \u001b[0;34m\u001b[0m\u001b[0m\n\u001b[1;32m      6\u001b[0m \u001b[0mcirc\u001b[0m \u001b[0;34m=\u001b[0m \u001b[0mCircle\u001b[0m\u001b[0;34m(\u001b[0m\u001b[0;34m(\u001b[0m\u001b[0;36m350\u001b[0m\u001b[0;34m,\u001b[0m\u001b[0;36m460\u001b[0m\u001b[0;34m)\u001b[0m\u001b[0;34m,\u001b[0m\u001b[0;36m50\u001b[0m\u001b[0;34m)\u001b[0m\u001b[0;34m\u001b[0m\u001b[0;34m\u001b[0m\u001b[0m\n",
      "\u001b[0;31mNameError\u001b[0m: name 'star_cube_full_rotation' is not defined"
     ]
    },
    {
     "data": {
      "image/png": "[encoded data removed]",
      "text/plain": [
       "<Figure size 432x288 with 1 Axes>"
      ]
     },
     "metadata": {
      "needs_background": "light"
     },
     "output_type": "display_data"
    }
   ],
   "source": [
    "from matplotlib.patches import Circle\n",
    "\n",
    "fig,ax = plt.subplots()\n",
    "ax.imshow(star_cube_full_rotation[:,:,0], cmap = 'hot', vmin = -1, vmax = 1., origin = 'lower')\n",
    "\n",
    "circ = Circle((350,460),50)\n",
    "ax.add_patch(circ)"
   ]
  },
  {
   "cell_type": "code",
   "execution_count": 29,
   "metadata": {},
   "outputs": [],
   "source": [
    "#benneke_model_ = pd.read_csv('Benneke_best_fit_model.csv').values"
   ]
  },
  {
   "cell_type": "code",
   "execution_count": 30,
   "metadata": {},
   "outputs": [
    {
     "ename": "NameError",
     "evalue": "name 'benneke_model_' is not defined",
     "output_type": "error",
     "traceback": [
      "\u001b[0;31m---------------------------------------------------------------------------\u001b[0m",
      "\u001b[0;31mNameError\u001b[0m                                 Traceback (most recent call last)",
      "\u001b[0;32m<ipython-input-30-a654a2a10975>\u001b[0m in \u001b[0;36m<module>\u001b[0;34m\u001b[0m\n\u001b[0;32m----> 1\u001b[0;31m \u001b[0mbenneke_model_\u001b[0m\u001b[0;34m.\u001b[0m\u001b[0mshape\u001b[0m\u001b[0;34m\u001b[0m\u001b[0;34m\u001b[0m\u001b[0m\n\u001b[0m",
      "\u001b[0;31mNameError\u001b[0m: name 'benneke_model_' is not defined"
     ]
    }
   ],
   "source": [
    "benneke_model_.shape"
   ]
  },
  {
   "cell_type": "code",
   "execution_count": 31,
   "metadata": {},
   "outputs": [
    {
     "data": {
      "text/plain": [
       "array([0., 0., 0., ..., 0., 0., 0.])"
      ]
     },
     "execution_count": 31,
     "metadata": {},
     "output_type": "execute_result"
    },
    {
     "data": {
      "image/png": "[encoded data removed]",
      "text/plain": [
       "<Figure size 432x288 with 1 Axes>"
      ]
     },
     "metadata": {
      "needs_background": "light"
     },
     "output_type": "display_data"
    }
   ],
   "source": [
    "\n",
    "for vv in range(number_of_visits_):\n",
    "    plt.plot(mean_subtracted_diff_flux_arr_ITER_[vv,:])\n",
    "    \n",
    "mean_subtracted_diff_flux_arr_ITER_[vv,:]"
   ]
  },
  {
   "cell_type": "code",
   "execution_count": 32,
   "metadata": {},
   "outputs": [
    {
     "ename": "NameError",
     "evalue": "name 'benneke_model_' is not defined",
     "output_type": "error",
     "traceback": [
      "\u001b[0;31m---------------------------------------------------------------------------\u001b[0m",
      "\u001b[0;31mNameError\u001b[0m                                 Traceback (most recent call last)",
      "\u001b[0;32m<ipython-input-32-a485ba507b0a>\u001b[0m in \u001b[0;36m<module>\u001b[0;34m\u001b[0m\n\u001b[1;32m      6\u001b[0m \u001b[0;34m\u001b[0m\u001b[0m\n\u001b[1;32m      7\u001b[0m \u001b[0;34m\u001b[0m\u001b[0m\n\u001b[0;32m----> 8\u001b[0;31m \u001b[0mplt\u001b[0m\u001b[0;34m.\u001b[0m\u001b[0mplot\u001b[0m\u001b[0;34m(\u001b[0m\u001b[0mbenneke_model_\u001b[0m\u001b[0;34m[\u001b[0m\u001b[0;34m:\u001b[0m\u001b[0;34m,\u001b[0m\u001b[0;36m0\u001b[0m\u001b[0;34m]\u001b[0m\u001b[0;34m,\u001b[0m \u001b[0mbenneke_model_\u001b[0m\u001b[0;34m[\u001b[0m\u001b[0;34m:\u001b[0m\u001b[0;34m,\u001b[0m\u001b[0;36m1\u001b[0m\u001b[0;34m]\u001b[0m \u001b[0;34m-\u001b[0m \u001b[0mnp\u001b[0m\u001b[0;34m.\u001b[0m\u001b[0mnanmean\u001b[0m\u001b[0;34m(\u001b[0m\u001b[0mbenneke_model_\u001b[0m\u001b[0;34m[\u001b[0m\u001b[0;34m:\u001b[0m\u001b[0;34m,\u001b[0m\u001b[0;36m1\u001b[0m\u001b[0;34m]\u001b[0m\u001b[0;34m)\u001b[0m\u001b[0;34m,\u001b[0m \u001b[0;34m'.'\u001b[0m\u001b[0;34m)\u001b[0m\u001b[0;34m\u001b[0m\u001b[0;34m\u001b[0m\u001b[0m\n\u001b[0m",
      "\u001b[0;31mNameError\u001b[0m: name 'benneke_model_' is not defined"
     ]
    },
    {
     "data": {
      "text/plain": [
       "<Figure size 1440x360 with 0 Axes>"
      ]
     },
     "metadata": {},
     "output_type": "display_data"
    }
   ],
   "source": [
    "fig = plt.figure(figsize=(20,5))\n",
    "\n",
    "bin_means,bin_edges,binnumber = \\\n",
    "stats.binned_statistic(filter_IR[idx_HST],mean_subtracted_diff_flux_arr_ITER_[vv,:],statistic='mean', bins=17)\n",
    "\n",
    "\n",
    "\n",
    "plt.plot(benneke_model_[:,0], benneke_model_[:,1] - np.nanmean(benneke_model_[:,1]), '.')"
   ]
  },
  {
   "cell_type": "code",
   "execution_count": 33,
   "metadata": {},
   "outputs": [
    {
     "ename": "NameError",
     "evalue": "name 'xxxx' is not defined",
     "output_type": "error",
     "traceback": [
      "\u001b[0;31m---------------------------------------------------------------------------\u001b[0m",
      "\u001b[0;31mNameError\u001b[0m                                 Traceback (most recent call last)",
      "\u001b[0;32m<ipython-input-33-53d3699683de>\u001b[0m in \u001b[0;36m<module>\u001b[0;34m\u001b[0m\n\u001b[0;32m----> 1\u001b[0;31m \u001b[0mxxxx\u001b[0m\u001b[0;34m\u001b[0m\u001b[0;34m\u001b[0m\u001b[0m\n\u001b[0m",
      "\u001b[0;31mNameError\u001b[0m: name 'xxxx' is not defined"
     ]
    }
   ],
   "source": [
    "xxxx"
   ]
  },
  {
   "cell_type": "code",
   "execution_count": 34,
   "metadata": {},
   "outputs": [],
   "source": [
    "save_output_ = 'y'\n",
    "\n",
    "if save_output_ == 'y':\n",
    "    star_map_file = 'star_map_file_test.npy'\n",
    "    phase_file = 'phase_file_test.npy'\n",
    "    np.save(star_map_file, star_map)\n",
    "    np.save(phase_file, phase_transit_)"
   ]
  },
  {
   "cell_type": "code",
   "execution_count": 35,
   "metadata": {},
   "outputs": [
    {
     "ename": "NameError",
     "evalue": "name 'xxx' is not defined",
     "output_type": "error",
     "traceback": [
      "\u001b[0;31m---------------------------------------------------------------------------\u001b[0m",
      "\u001b[0;31mNameError\u001b[0m                                 Traceback (most recent call last)",
      "\u001b[0;32m<ipython-input-35-38170c08cb45>\u001b[0m in \u001b[0;36m<module>\u001b[0;34m\u001b[0m\n\u001b[0;32m----> 1\u001b[0;31m \u001b[0mxxx\u001b[0m\u001b[0;34m\u001b[0m\u001b[0;34m\u001b[0m\u001b[0m\n\u001b[0m",
      "\u001b[0;31mNameError\u001b[0m: name 'xxx' is not defined"
     ]
    }
   ],
   "source": [
    "xxx"
   ]
  },
  {
   "cell_type": "code",
   "execution_count": 36,
   "metadata": {},
   "outputs": [
    {
     "ename": "NameError",
     "evalue": "name 'star_map_same' is not defined",
     "output_type": "error",
     "traceback": [
      "\u001b[0;31m---------------------------------------------------------------------------\u001b[0m",
      "\u001b[0;31mNameError\u001b[0m                                 Traceback (most recent call last)",
      "\u001b[0;32m<ipython-input-36-a50d406a381b>\u001b[0m in \u001b[0;36m<module>\u001b[0;34m\u001b[0m\n\u001b[0;32m----> 1\u001b[0;31m \u001b[0mplt\u001b[0m\u001b[0;34m.\u001b[0m\u001b[0mimshow\u001b[0m\u001b[0;34m(\u001b[0m\u001b[0mstar_map_same\u001b[0m\u001b[0;34m,\u001b[0m \u001b[0morigin\u001b[0m \u001b[0;34m=\u001b[0m \u001b[0;34m'lower'\u001b[0m\u001b[0;34m,\u001b[0m \u001b[0mcmap\u001b[0m\u001b[0;34m=\u001b[0m\u001b[0;34m'hot'\u001b[0m\u001b[0;34m,\u001b[0m \u001b[0mvmin\u001b[0m\u001b[0;34m=\u001b[0m\u001b[0;34m-\u001b[0m\u001b[0;36m1.\u001b[0m\u001b[0;34m,\u001b[0m \u001b[0mvmax\u001b[0m\u001b[0;34m=\u001b[0m\u001b[0;36m1.\u001b[0m\u001b[0;34m)\u001b[0m\u001b[0;34m\u001b[0m\u001b[0;34m\u001b[0m\u001b[0m\n\u001b[0m\u001b[1;32m      2\u001b[0m \u001b[0mplt\u001b[0m\u001b[0;34m.\u001b[0m\u001b[0mxlabel\u001b[0m\u001b[0;34m(\u001b[0m\u001b[0;34m'Longitude [deg]'\u001b[0m\u001b[0;34m,\u001b[0m \u001b[0mfontsize\u001b[0m \u001b[0;34m=\u001b[0m \u001b[0;36m14\u001b[0m\u001b[0;34m)\u001b[0m\u001b[0;34m\u001b[0m\u001b[0;34m\u001b[0m\u001b[0m\n\u001b[1;32m      3\u001b[0m \u001b[0mplt\u001b[0m\u001b[0;34m.\u001b[0m\u001b[0mylabel\u001b[0m\u001b[0;34m(\u001b[0m\u001b[0;34m'Latitude [deg]'\u001b[0m\u001b[0;34m,\u001b[0m \u001b[0mfontsize\u001b[0m \u001b[0;34m=\u001b[0m \u001b[0;36m14\u001b[0m\u001b[0;34m)\u001b[0m\u001b[0;34m\u001b[0m\u001b[0;34m\u001b[0m\u001b[0m\n\u001b[1;32m      4\u001b[0m \u001b[0;34m\u001b[0m\u001b[0m\n\u001b[1;32m      5\u001b[0m \u001b[0mpath_\u001b[0m \u001b[0;34m=\u001b[0m \u001b[0;34m'/Users/vkostov/Desktop/Ideas_etc/Mapping/for_Overleaf/'\u001b[0m\u001b[0;34m\u001b[0m\u001b[0;34m\u001b[0m\u001b[0m\n",
      "\u001b[0;31mNameError\u001b[0m: name 'star_map_same' is not defined"
     ]
    }
   ],
   "source": [
    "plt.imshow(star_map_same, origin = 'lower', cmap='hot', vmin=-1., vmax=1.)\n",
    "plt.xlabel('Longitude [deg]', fontsize = 14)\n",
    "plt.ylabel('Latitude [deg]', fontsize = 14)\n",
    "\n",
    "path_ = '/Users/vkostov/Desktop/Ideas_etc/Mapping/for_Overleaf/'\n",
    "plt.savefig(path_ + 'RandomMap_' + str(int(area_covered*100)) + 'percent_SpotCoverage.png')"
   ]
  },
  {
   "cell_type": "code",
   "execution_count": 37,
   "metadata": {},
   "outputs": [
    {
     "ename": "NameError",
     "evalue": "name 'xx' is not defined",
     "output_type": "error",
     "traceback": [
      "\u001b[0;31m---------------------------------------------------------------------------\u001b[0m",
      "\u001b[0;31mNameError\u001b[0m                                 Traceback (most recent call last)",
      "\u001b[0;32m<ipython-input-37-ce3af7760f12>\u001b[0m in \u001b[0;36m<module>\u001b[0;34m\u001b[0m\n\u001b[0;32m----> 1\u001b[0;31m \u001b[0mxx\u001b[0m\u001b[0;34m\u001b[0m\u001b[0;34m\u001b[0m\u001b[0m\n\u001b[0m",
      "\u001b[0;31mNameError\u001b[0m: name 'xx' is not defined"
     ]
    }
   ],
   "source": [
    "xx"
   ]
  },
  {
   "cell_type": "code",
   "execution_count": 38,
   "metadata": {},
   "outputs": [
    {
     "ename": "NameError",
     "evalue": "name 'star_cube_full_rotation' is not defined",
     "output_type": "error",
     "traceback": [
      "\u001b[0;31m---------------------------------------------------------------------------\u001b[0m",
      "\u001b[0;31mNameError\u001b[0m                                 Traceback (most recent call last)",
      "\u001b[0;32m<ipython-input-38-cc2927c9e4ec>\u001b[0m in \u001b[0;36m<module>\u001b[0;34m\u001b[0m\n\u001b[0;32m----> 1\u001b[0;31m \u001b[0mstar_cube_full_rotation\u001b[0m\u001b[0;34m\u001b[0m\u001b[0;34m\u001b[0m\u001b[0m\n\u001b[0m\u001b[1;32m      2\u001b[0m \u001b[0;34m\u001b[0m\u001b[0m\n\u001b[1;32m      3\u001b[0m \u001b[0mget_ipython\u001b[0m\u001b[0;34m(\u001b[0m\u001b[0;34m)\u001b[0m\u001b[0;34m.\u001b[0m\u001b[0mrun_line_magic\u001b[0m\u001b[0;34m(\u001b[0m\u001b[0;34m'matplotlib'\u001b[0m\u001b[0;34m,\u001b[0m \u001b[0;34m'inline'\u001b[0m\u001b[0;34m)\u001b[0m\u001b[0;34m\u001b[0m\u001b[0;34m\u001b[0m\u001b[0m\n\u001b[1;32m      4\u001b[0m \u001b[0mfig\u001b[0m \u001b[0;34m=\u001b[0m \u001b[0mplt\u001b[0m\u001b[0;34m.\u001b[0m\u001b[0mfigure\u001b[0m\u001b[0;34m(\u001b[0m\u001b[0mfigsize\u001b[0m\u001b[0;34m=\u001b[0m\u001b[0;34m(\u001b[0m\u001b[0;36m15\u001b[0m\u001b[0;34m,\u001b[0m\u001b[0;36m10\u001b[0m\u001b[0;34m)\u001b[0m\u001b[0;34m)\u001b[0m\u001b[0;34m\u001b[0m\u001b[0;34m\u001b[0m\u001b[0m\n\u001b[1;32m      5\u001b[0m \u001b[0mn_panels\u001b[0m \u001b[0;34m=\u001b[0m \u001b[0;36m12\u001b[0m\u001b[0;31m#number_of_rotation_phases if number_of_rotation_phases < 13 else 12\u001b[0m\u001b[0;34m\u001b[0m\u001b[0;34m\u001b[0m\u001b[0m\n",
      "\u001b[0;31mNameError\u001b[0m: name 'star_cube_full_rotation' is not defined"
     ]
    }
   ],
   "source": [
    "star_cube_full_rotation\n",
    "\n",
    "%matplotlib inline\n",
    "fig = plt.figure(figsize=(15,10))\n",
    "n_panels = 12#number_of_rotation_phases if number_of_rotation_phases < 13 else 12\n",
    "\n",
    "for ii in range(n_panels):\n",
    "    plt.subplot(3, 4, ii+1)\n",
    "    plt.imshow(star_cube_full_rotation[:,:,int(ii*(len(phase_full_rotation))/n_panels)], cmap='hot', vmin=-1., vmax=1.)\n",
    "    plt.axis('off')\n",
    "    plt.title('Rotation Phase = ' + str(round(ii/n_panels,2)))\n",
    "    \n",
    "plt.savefig(path_ + 'RandomMap_' + str(int(area_covered*100)) + 'percent_SpotCoverage_Rotation.png')"
   ]
  },
  {
   "cell_type": "code",
   "execution_count": 39,
   "metadata": {},
   "outputs": [
    {
     "ename": "NameError",
     "evalue": "name 'xxx' is not defined",
     "output_type": "error",
     "traceback": [
      "\u001b[0;31m---------------------------------------------------------------------------\u001b[0m",
      "\u001b[0;31mNameError\u001b[0m                                 Traceback (most recent call last)",
      "\u001b[0;32m<ipython-input-39-38170c08cb45>\u001b[0m in \u001b[0;36m<module>\u001b[0;34m\u001b[0m\n\u001b[0;32m----> 1\u001b[0;31m \u001b[0mxxx\u001b[0m\u001b[0;34m\u001b[0m\u001b[0;34m\u001b[0m\u001b[0m\n\u001b[0m",
      "\u001b[0;31mNameError\u001b[0m: name 'xxx' is not defined"
     ]
    }
   ],
   "source": [
    "xxx"
   ]
  },
  {
   "cell_type": "code",
   "execution_count": 40,
   "metadata": {},
   "outputs": [
    {
     "ename": "NameError",
     "evalue": "name 'star_cube_full_rotation' is not defined",
     "output_type": "error",
     "traceback": [
      "\u001b[0;31m---------------------------------------------------------------------------\u001b[0m",
      "\u001b[0;31mNameError\u001b[0m                                 Traceback (most recent call last)",
      "\u001b[0;32m<ipython-input-40-4dac6769b99c>\u001b[0m in \u001b[0;36m<module>\u001b[0;34m\u001b[0m\n\u001b[1;32m     10\u001b[0m \u001b[0mplt\u001b[0m\u001b[0;34m.\u001b[0m\u001b[0mlegend\u001b[0m\u001b[0;34m(\u001b[0m\u001b[0;34m)\u001b[0m\u001b[0;34m\u001b[0m\u001b[0;34m\u001b[0m\u001b[0m\n\u001b[1;32m     11\u001b[0m \u001b[0;34m\u001b[0m\u001b[0m\n\u001b[0;32m---> 12\u001b[0;31m \u001b[0mfrac_covered\u001b[0m \u001b[0;34m=\u001b[0m \u001b[0mfraction_covered_\u001b[0m\u001b[0;34m(\u001b[0m\u001b[0mstar_cube_full_rotation\u001b[0m\u001b[0;34m,\u001b[0m \u001b[0mlen\u001b[0m\u001b[0;34m(\u001b[0m\u001b[0mphase_full_rotation\u001b[0m\u001b[0;34m)\u001b[0m\u001b[0;34m,\u001b[0m \u001b[0mphotosphere_id\u001b[0m\u001b[0;34m,\u001b[0m \u001b[0mspots_id\u001b[0m\u001b[0;34m,\u001b[0m \u001b[0mplanet_id\u001b[0m\u001b[0;34m)\u001b[0m\u001b[0;34m\u001b[0m\u001b[0;34m\u001b[0m\u001b[0m\n\u001b[0m\u001b[1;32m     13\u001b[0m \u001b[0mfrac_covered\u001b[0m \u001b[0;34m=\u001b[0m \u001b[0mnp\u001b[0m\u001b[0;34m.\u001b[0m\u001b[0masarray\u001b[0m\u001b[0;34m(\u001b[0m\u001b[0mfrac_covered\u001b[0m\u001b[0;34m)\u001b[0m\u001b[0;34m.\u001b[0m\u001b[0mT\u001b[0m\u001b[0;34m\u001b[0m\u001b[0;34m\u001b[0m\u001b[0m\n\u001b[1;32m     14\u001b[0m \u001b[0;34m\u001b[0m\u001b[0m\n",
      "\u001b[0;31mNameError\u001b[0m: name 'star_cube_full_rotation' is not defined"
     ]
    },
    {
     "data": {
      "image/png": "[encoded data removed]",
      "text/plain": [
       "<Figure size 1440x360 with 1 Axes>"
      ]
     },
     "metadata": {
      "needs_background": "light"
     },
     "output_type": "display_data"
    }
   ],
   "source": [
    "#plt.plot(frac_covered_[:,0])\n",
    "%matplotlib inline\n",
    "fig = plt.figure(figsize=(20,5))\n",
    "\n",
    "plt.subplot(121)\n",
    "plt.plot(filter_IR/1e4, stellar_flux_model_interp_Teff_IR, 'r', label = 'Photosphere, Teff = ' + str(Teff_) + 'K')\n",
    "plt.plot(filter_IR/1e4, stellar_flux_model_interp_spots_IR, 'b', label = 'Spots, Teff = ' + str(Tspots) + 'K')\n",
    "plt.ylabel('Flux', fontsize = 14)\n",
    "plt.xlabel('Micron', fontsize = 14)\n",
    "plt.legend()\n",
    "\n",
    "frac_covered = fraction_covered_(star_cube_full_rotation, len(phase_full_rotation), photosphere_id, spots_id, planet_id)\n",
    "frac_covered = np.asarray(frac_covered).T\n",
    "\n",
    "plt.subplot(122)\n",
    "plt.plot(phase_full_rotation, frac_covered[:,0], 'r-', label = 'Photosphere')\n",
    "plt.plot(phase_full_rotation, frac_covered[:,1], 'b-', label = 'Spots')\n",
    "#for ii in range(5):\n",
    "#    plt.plot(rot_phase_, frac_covered_[:,ii], label = 'Spot ' + str(ii))\n",
    "plt.xlabel('Rotation Phase', fontsize = 14)\n",
    "plt.ylabel('Fraction Covered', fontsize = 14)\n",
    "plt.legend()\n",
    "\n",
    "#plt.subplot(133)\n",
    "#plt.plot(rot_phase_, frac_covered[:,0]*np.sum(stellar_flux_model_interp_Teff_IR), 'r', label = 'Flux, Photosphere')\n",
    "#plt.plot(rot_phase_, (1.-frac_covered[:,0])*np.sum(stellar_flux_model_interp_spots_IR), 'b', label = 'Flux, Spots')\n",
    "#plt.plot(rot_phase_, lc_IR, 'k', label = 'Flux, Total')\n",
    "#plt.xlabel('Rotation Phase', fontsize = 14)\n",
    "#plt.ylabel('Flux', fontsize = 14)\n",
    "#plt.legend()\n",
    "\n",
    "plt.savefig(path_ + 'RandomMap_' + str(int(area_covered*100)) + 'percent_SpotCoverage_FractionRotate.png')"
   ]
  },
  {
   "cell_type": "code",
   "execution_count": 41,
   "metadata": {},
   "outputs": [
    {
     "ename": "NameError",
     "evalue": "name 'xxxxxx' is not defined",
     "output_type": "error",
     "traceback": [
      "\u001b[0;31m---------------------------------------------------------------------------\u001b[0m",
      "\u001b[0;31mNameError\u001b[0m                                 Traceback (most recent call last)",
      "\u001b[0;32m<ipython-input-41-81155ff18872>\u001b[0m in \u001b[0;36m<module>\u001b[0;34m\u001b[0m\n\u001b[0;32m----> 1\u001b[0;31m \u001b[0mxxxxxx\u001b[0m\u001b[0;34m\u001b[0m\u001b[0;34m\u001b[0m\u001b[0m\n\u001b[0m",
      "\u001b[0;31mNameError\u001b[0m: name 'xxxxxx' is not defined"
     ]
    }
   ],
   "source": [
    "xxxxxx"
   ]
  },
  {
   "cell_type": "code",
   "execution_count": 42,
   "metadata": {},
   "outputs": [
    {
     "ename": "NameError",
     "evalue": "name 'star_cube_full_rotation' is not defined",
     "output_type": "error",
     "traceback": [
      "\u001b[0;31m---------------------------------------------------------------------------\u001b[0m",
      "\u001b[0;31mNameError\u001b[0m                                 Traceback (most recent call last)",
      "\u001b[0;32m<ipython-input-42-65030876ac03>\u001b[0m in \u001b[0;36m<module>\u001b[0;34m\u001b[0m\n\u001b[1;32m      4\u001b[0m \u001b[0;34m\u001b[0m\u001b[0m\n\u001b[1;32m      5\u001b[0m \u001b[0mplt\u001b[0m\u001b[0;34m.\u001b[0m\u001b[0msubplot\u001b[0m\u001b[0;34m(\u001b[0m\u001b[0mgrid\u001b[0m\u001b[0;34m[\u001b[0m\u001b[0;36m0\u001b[0m\u001b[0;34m,\u001b[0m \u001b[0;36m0\u001b[0m\u001b[0;34m]\u001b[0m\u001b[0;34m)\u001b[0m\u001b[0;34m\u001b[0m\u001b[0;34m\u001b[0m\u001b[0m\n\u001b[0;32m----> 6\u001b[0;31m \u001b[0mbb\u001b[0m \u001b[0;34m=\u001b[0m \u001b[0mstar_cube_full_rotation\u001b[0m\u001b[0;34m[\u001b[0m\u001b[0;34m:\u001b[0m\u001b[0;34m,\u001b[0m\u001b[0;34m:\u001b[0m\u001b[0;34m,\u001b[0m\u001b[0;36m0\u001b[0m\u001b[0;34m]\u001b[0m\u001b[0;34m.\u001b[0m\u001b[0mcopy\u001b[0m\u001b[0;34m(\u001b[0m\u001b[0;34m)\u001b[0m\u001b[0;34m\u001b[0m\u001b[0;34m\u001b[0m\u001b[0m\n\u001b[0m\u001b[1;32m      7\u001b[0m \u001b[0mplt\u001b[0m\u001b[0;34m.\u001b[0m\u001b[0mimshow\u001b[0m\u001b[0;34m(\u001b[0m\u001b[0mbb\u001b[0m\u001b[0;34m,\u001b[0m \u001b[0mcmap\u001b[0m\u001b[0;34m=\u001b[0m\u001b[0;34m'hot'\u001b[0m\u001b[0;34m,\u001b[0m \u001b[0mvmin\u001b[0m\u001b[0;34m=\u001b[0m\u001b[0;34m-\u001b[0m\u001b[0;36m1.\u001b[0m\u001b[0;34m,\u001b[0m \u001b[0mvmax\u001b[0m\u001b[0;34m=\u001b[0m\u001b[0;36m1.\u001b[0m\u001b[0;34m)\u001b[0m\u001b[0;34m\u001b[0m\u001b[0;34m\u001b[0m\u001b[0m\n\u001b[1;32m      8\u001b[0m \u001b[0mplt\u001b[0m\u001b[0;34m.\u001b[0m\u001b[0maxis\u001b[0m\u001b[0;34m(\u001b[0m\u001b[0;34m'off'\u001b[0m\u001b[0;34m)\u001b[0m\u001b[0;34m\u001b[0m\u001b[0;34m\u001b[0m\u001b[0m\n",
      "\u001b[0;31mNameError\u001b[0m: name 'star_cube_full_rotation' is not defined"
     ]
    },
    {
     "data": {
      "image/png": "[encoded data removed]",
      "text/plain": [
       "<Figure size 1440x720 with 1 Axes>"
      ]
     },
     "metadata": {
      "needs_background": "light"
     },
     "output_type": "display_data"
    }
   ],
   "source": [
    "fig = plt.figure(figsize=(20,10))\n",
    "\n",
    "grid = plt.GridSpec(5, 4, wspace=0.4, hspace=0.3)\n",
    "\n",
    "plt.subplot(grid[0, 0])\n",
    "bb = star_cube_full_rotation[:,:,0].copy()\n",
    "plt.imshow(bb, cmap='hot', vmin=-1., vmax=1.)\n",
    "plt.axis('off')\n",
    "#plt.title('@max lightcurve')\n",
    "del bb\n",
    "\n",
    "plt.subplot(grid[0, 1])\n",
    "bb = star_cube_full_rotation[:,:,int(0.25*len(phase_full_rotation))].copy()\n",
    "plt.imshow(bb, cmap='hot', vmin=-1., vmax=1.)\n",
    "#plt.title('@min lightcurve')\n",
    "plt.axis('off')\n",
    "del bb\n",
    "\n",
    "plt.subplot(grid[0, 2])\n",
    "bb = star_cube_full_rotation[:,:,int(0.5*len(phase_full_rotation))].copy()\n",
    "plt.imshow(bb, cmap='hot', vmin=-1., vmax=1.)\n",
    "plt.axis('off')\n",
    "del bb\n",
    "\n",
    "plt.subplot(grid[0, 3])\n",
    "bb = star_cube_full_rotation[:,:,int(0.75*len(phase_full_rotation))].copy()\n",
    "plt.imshow(bb, cmap='hot', vmin=-1., vmax=1.)\n",
    "plt.axis('off')\n",
    "del bb\n",
    "\n",
    "plt.subplot(grid[1:3, :])\n",
    "lc_IR = frac_covered[:,0]*np.sum(stellar_flux_model_interp_Teff_IR) + \\\n",
    "(1.-frac_covered[:,0])*np.sum(stellar_flux_model_interp_spots_IR)\n",
    "plt.plot(phase_full_rotation/360., lc_IR/np.nanmean(lc_IR), 'ko')\n",
    "plt.ylabel('Normalized Lightcurve', fontsize = 14)\n",
    "plt.xlabel(r'${\\rm Rotation\\ Phase\\ \\Phi}$', fontsize = 14)\n",
    "#plt.legend(fontsize = 14)\n",
    "#plt.title(str(int(100*area_covered)) + '% spot covering fraction', fontsize = 16)\n",
    "\n",
    "plt.savefig(path_ + 'RandomMap_' + str(int(area_covered*100)) + 'percent_SpotCoverage_LC.png')"
   ]
  },
  {
   "cell_type": "code",
   "execution_count": null,
   "metadata": {},
   "outputs": [],
   "source": []
  },
  {
   "cell_type": "code",
   "execution_count": 43,
   "metadata": {},
   "outputs": [
    {
     "ename": "NameError",
     "evalue": "name 'xxx' is not defined",
     "output_type": "error",
     "traceback": [
      "\u001b[0;31m---------------------------------------------------------------------------\u001b[0m",
      "\u001b[0;31mNameError\u001b[0m                                 Traceback (most recent call last)",
      "\u001b[0;32m<ipython-input-43-38170c08cb45>\u001b[0m in \u001b[0;36m<module>\u001b[0;34m\u001b[0m\n\u001b[0;32m----> 1\u001b[0;31m \u001b[0mxxx\u001b[0m\u001b[0;34m\u001b[0m\u001b[0;34m\u001b[0m\u001b[0m\n\u001b[0m",
      "\u001b[0;31mNameError\u001b[0m: name 'xxx' is not defined"
     ]
    }
   ],
   "source": [
    "xxx"
   ]
  },
  {
   "cell_type": "code",
   "execution_count": 44,
   "metadata": {},
   "outputs": [
    {
     "ename": "NameError",
     "evalue": "name 'xxx' is not defined",
     "output_type": "error",
     "traceback": [
      "\u001b[0;31m---------------------------------------------------------------------------\u001b[0m",
      "\u001b[0;31mNameError\u001b[0m                                 Traceback (most recent call last)",
      "\u001b[0;32m<ipython-input-44-38170c08cb45>\u001b[0m in \u001b[0;36m<module>\u001b[0;34m\u001b[0m\n\u001b[0;32m----> 1\u001b[0;31m \u001b[0mxxx\u001b[0m\u001b[0;34m\u001b[0m\u001b[0;34m\u001b[0m\u001b[0m\n\u001b[0m",
      "\u001b[0;31mNameError\u001b[0m: name 'xxx' is not defined"
     ]
    }
   ],
   "source": [
    "xxx"
   ]
  },
  {
   "cell_type": "code",
   "execution_count": 45,
   "metadata": {},
   "outputs": [
    {
     "ename": "TypeError",
     "evalue": "Invalid shape (750, 750, 1) for image data",
     "output_type": "error",
     "traceback": [
      "\u001b[0;31m---------------------------------------------------------------------------\u001b[0m",
      "\u001b[0;31mTypeError\u001b[0m                                 Traceback (most recent call last)",
      "\u001b[0;32m<ipython-input-45-7810a519d8c3>\u001b[0m in \u001b[0;36m<module>\u001b[0;34m\u001b[0m\n\u001b[1;32m      5\u001b[0m \u001b[0mfig\u001b[0m \u001b[0;34m=\u001b[0m \u001b[0mplt\u001b[0m\u001b[0;34m.\u001b[0m\u001b[0mfigure\u001b[0m\u001b[0;34m(\u001b[0m\u001b[0mfigsize\u001b[0m\u001b[0;34m=\u001b[0m\u001b[0;34m(\u001b[0m\u001b[0;36m2\u001b[0m\u001b[0;34m,\u001b[0m\u001b[0;36m2\u001b[0m\u001b[0;34m)\u001b[0m\u001b[0;34m)\u001b[0m\u001b[0;34m\u001b[0m\u001b[0;34m\u001b[0m\u001b[0m\n\u001b[1;32m      6\u001b[0m \u001b[0maa\u001b[0m \u001b[0;34m=\u001b[0m \u001b[0mnp\u001b[0m\u001b[0;34m.\u001b[0m\u001b[0masarray\u001b[0m\u001b[0;34m(\u001b[0m\u001b[0mstar_cube\u001b[0m\u001b[0;34m[\u001b[0m\u001b[0;34m:\u001b[0m\u001b[0;34m,\u001b[0m\u001b[0;34m:\u001b[0m\u001b[0;34m,\u001b[0m\u001b[0;36m0\u001b[0m\u001b[0;34m]\u001b[0m\u001b[0;34m)\u001b[0m\u001b[0;34m\u001b[0m\u001b[0;34m\u001b[0m\u001b[0m\n\u001b[0;32m----> 7\u001b[0;31m \u001b[0mimg_\u001b[0m \u001b[0;34m=\u001b[0m \u001b[0mplt\u001b[0m\u001b[0;34m.\u001b[0m\u001b[0mimshow\u001b[0m\u001b[0;34m(\u001b[0m\u001b[0maa\u001b[0m\u001b[0;34m,\u001b[0m \u001b[0manimated\u001b[0m\u001b[0;34m=\u001b[0m\u001b[0;32mTrue\u001b[0m\u001b[0;34m,\u001b[0m \u001b[0mcmap\u001b[0m\u001b[0;34m=\u001b[0m\u001b[0;34m'hot'\u001b[0m\u001b[0;34m,\u001b[0m \u001b[0mvmin\u001b[0m\u001b[0;34m=\u001b[0m\u001b[0;34m-\u001b[0m\u001b[0;36m1.\u001b[0m\u001b[0;34m,\u001b[0m \u001b[0mvmax\u001b[0m\u001b[0;34m=\u001b[0m\u001b[0;36m1.\u001b[0m\u001b[0;34m)\u001b[0m\u001b[0;34m\u001b[0m\u001b[0;34m\u001b[0m\u001b[0m\n\u001b[0m\u001b[1;32m      8\u001b[0m \u001b[0;34m\u001b[0m\u001b[0m\n\u001b[1;32m      9\u001b[0m \u001b[0;32mdef\u001b[0m \u001b[0mupdatefig\u001b[0m\u001b[0;34m(\u001b[0m\u001b[0mi\u001b[0m\u001b[0;34m)\u001b[0m\u001b[0;34m:\u001b[0m\u001b[0;34m\u001b[0m\u001b[0;34m\u001b[0m\u001b[0m\n",
      "\u001b[0;32m~/opt/anaconda3/lib/python3.7/site-packages/matplotlib/pyplot.py\u001b[0m in \u001b[0;36mimshow\u001b[0;34m(X, cmap, norm, aspect, interpolation, alpha, vmin, vmax, origin, extent, shape, filternorm, filterrad, imlim, resample, url, data, **kwargs)\u001b[0m\n\u001b[1;32m   2682\u001b[0m         \u001b[0mfilternorm\u001b[0m\u001b[0;34m=\u001b[0m\u001b[0mfilternorm\u001b[0m\u001b[0;34m,\u001b[0m \u001b[0mfilterrad\u001b[0m\u001b[0;34m=\u001b[0m\u001b[0mfilterrad\u001b[0m\u001b[0;34m,\u001b[0m \u001b[0mimlim\u001b[0m\u001b[0;34m=\u001b[0m\u001b[0mimlim\u001b[0m\u001b[0;34m,\u001b[0m\u001b[0;34m\u001b[0m\u001b[0;34m\u001b[0m\u001b[0m\n\u001b[1;32m   2683\u001b[0m         resample=resample, url=url, **({\"data\": data} if data is not\n\u001b[0;32m-> 2684\u001b[0;31m         None else {}), **kwargs)\n\u001b[0m\u001b[1;32m   2685\u001b[0m     \u001b[0msci\u001b[0m\u001b[0;34m(\u001b[0m\u001b[0m__ret\u001b[0m\u001b[0;34m)\u001b[0m\u001b[0;34m\u001b[0m\u001b[0;34m\u001b[0m\u001b[0m\n\u001b[1;32m   2686\u001b[0m     \u001b[0;32mreturn\u001b[0m \u001b[0m__ret\u001b[0m\u001b[0;34m\u001b[0m\u001b[0;34m\u001b[0m\u001b[0m\n",
      "\u001b[0;32m~/opt/anaconda3/lib/python3.7/site-packages/matplotlib/__init__.py\u001b[0m in \u001b[0;36minner\u001b[0;34m(ax, data, *args, **kwargs)\u001b[0m\n\u001b[1;32m   1597\u001b[0m     \u001b[0;32mdef\u001b[0m \u001b[0minner\u001b[0m\u001b[0;34m(\u001b[0m\u001b[0max\u001b[0m\u001b[0;34m,\u001b[0m \u001b[0;34m*\u001b[0m\u001b[0margs\u001b[0m\u001b[0;34m,\u001b[0m \u001b[0mdata\u001b[0m\u001b[0;34m=\u001b[0m\u001b[0;32mNone\u001b[0m\u001b[0;34m,\u001b[0m \u001b[0;34m**\u001b[0m\u001b[0mkwargs\u001b[0m\u001b[0;34m)\u001b[0m\u001b[0;34m:\u001b[0m\u001b[0;34m\u001b[0m\u001b[0;34m\u001b[0m\u001b[0m\n\u001b[1;32m   1598\u001b[0m         \u001b[0;32mif\u001b[0m \u001b[0mdata\u001b[0m \u001b[0;32mis\u001b[0m \u001b[0;32mNone\u001b[0m\u001b[0;34m:\u001b[0m\u001b[0;34m\u001b[0m\u001b[0;34m\u001b[0m\u001b[0m\n\u001b[0;32m-> 1599\u001b[0;31m             \u001b[0;32mreturn\u001b[0m \u001b[0mfunc\u001b[0m\u001b[0;34m(\u001b[0m\u001b[0max\u001b[0m\u001b[0;34m,\u001b[0m \u001b[0;34m*\u001b[0m\u001b[0mmap\u001b[0m\u001b[0;34m(\u001b[0m\u001b[0msanitize_sequence\u001b[0m\u001b[0;34m,\u001b[0m \u001b[0margs\u001b[0m\u001b[0;34m)\u001b[0m\u001b[0;34m,\u001b[0m \u001b[0;34m**\u001b[0m\u001b[0mkwargs\u001b[0m\u001b[0;34m)\u001b[0m\u001b[0;34m\u001b[0m\u001b[0;34m\u001b[0m\u001b[0m\n\u001b[0m\u001b[1;32m   1600\u001b[0m \u001b[0;34m\u001b[0m\u001b[0m\n\u001b[1;32m   1601\u001b[0m         \u001b[0mbound\u001b[0m \u001b[0;34m=\u001b[0m \u001b[0mnew_sig\u001b[0m\u001b[0;34m.\u001b[0m\u001b[0mbind\u001b[0m\u001b[0;34m(\u001b[0m\u001b[0max\u001b[0m\u001b[0;34m,\u001b[0m \u001b[0;34m*\u001b[0m\u001b[0margs\u001b[0m\u001b[0;34m,\u001b[0m \u001b[0;34m**\u001b[0m\u001b[0mkwargs\u001b[0m\u001b[0;34m)\u001b[0m\u001b[0;34m\u001b[0m\u001b[0;34m\u001b[0m\u001b[0m\n",
      "\u001b[0;32m~/opt/anaconda3/lib/python3.7/site-packages/matplotlib/cbook/deprecation.py\u001b[0m in \u001b[0;36mwrapper\u001b[0;34m(*args, **kwargs)\u001b[0m\n\u001b[1;32m    367\u001b[0m                 \u001b[0;34mf\"%(removal)s.  If any parameter follows {name!r}, they \"\u001b[0m\u001b[0;34m\u001b[0m\u001b[0;34m\u001b[0m\u001b[0m\n\u001b[1;32m    368\u001b[0m                 f\"should be pass as keyword, not positionally.\")\n\u001b[0;32m--> 369\u001b[0;31m         \u001b[0;32mreturn\u001b[0m \u001b[0mfunc\u001b[0m\u001b[0;34m(\u001b[0m\u001b[0;34m*\u001b[0m\u001b[0margs\u001b[0m\u001b[0;34m,\u001b[0m \u001b[0;34m**\u001b[0m\u001b[0mkwargs\u001b[0m\u001b[0;34m)\u001b[0m\u001b[0;34m\u001b[0m\u001b[0;34m\u001b[0m\u001b[0m\n\u001b[0m\u001b[1;32m    370\u001b[0m \u001b[0;34m\u001b[0m\u001b[0m\n\u001b[1;32m    371\u001b[0m     \u001b[0;32mreturn\u001b[0m \u001b[0mwrapper\u001b[0m\u001b[0;34m\u001b[0m\u001b[0;34m\u001b[0m\u001b[0m\n",
      "\u001b[0;32m~/opt/anaconda3/lib/python3.7/site-packages/matplotlib/cbook/deprecation.py\u001b[0m in \u001b[0;36mwrapper\u001b[0;34m(*args, **kwargs)\u001b[0m\n\u001b[1;32m    367\u001b[0m                 \u001b[0;34mf\"%(removal)s.  If any parameter follows {name!r}, they \"\u001b[0m\u001b[0;34m\u001b[0m\u001b[0;34m\u001b[0m\u001b[0m\n\u001b[1;32m    368\u001b[0m                 f\"should be pass as keyword, not positionally.\")\n\u001b[0;32m--> 369\u001b[0;31m         \u001b[0;32mreturn\u001b[0m \u001b[0mfunc\u001b[0m\u001b[0;34m(\u001b[0m\u001b[0;34m*\u001b[0m\u001b[0margs\u001b[0m\u001b[0;34m,\u001b[0m \u001b[0;34m**\u001b[0m\u001b[0mkwargs\u001b[0m\u001b[0;34m)\u001b[0m\u001b[0;34m\u001b[0m\u001b[0;34m\u001b[0m\u001b[0m\n\u001b[0m\u001b[1;32m    370\u001b[0m \u001b[0;34m\u001b[0m\u001b[0m\n\u001b[1;32m    371\u001b[0m     \u001b[0;32mreturn\u001b[0m \u001b[0mwrapper\u001b[0m\u001b[0;34m\u001b[0m\u001b[0;34m\u001b[0m\u001b[0m\n",
      "\u001b[0;32m~/opt/anaconda3/lib/python3.7/site-packages/matplotlib/axes/_axes.py\u001b[0m in \u001b[0;36mimshow\u001b[0;34m(self, X, cmap, norm, aspect, interpolation, alpha, vmin, vmax, origin, extent, shape, filternorm, filterrad, imlim, resample, url, **kwargs)\u001b[0m\n\u001b[1;32m   5677\u001b[0m                               resample=resample, **kwargs)\n\u001b[1;32m   5678\u001b[0m \u001b[0;34m\u001b[0m\u001b[0m\n\u001b[0;32m-> 5679\u001b[0;31m         \u001b[0mim\u001b[0m\u001b[0;34m.\u001b[0m\u001b[0mset_data\u001b[0m\u001b[0;34m(\u001b[0m\u001b[0mX\u001b[0m\u001b[0;34m)\u001b[0m\u001b[0;34m\u001b[0m\u001b[0;34m\u001b[0m\u001b[0m\n\u001b[0m\u001b[1;32m   5680\u001b[0m         \u001b[0mim\u001b[0m\u001b[0;34m.\u001b[0m\u001b[0mset_alpha\u001b[0m\u001b[0;34m(\u001b[0m\u001b[0malpha\u001b[0m\u001b[0;34m)\u001b[0m\u001b[0;34m\u001b[0m\u001b[0;34m\u001b[0m\u001b[0m\n\u001b[1;32m   5681\u001b[0m         \u001b[0;32mif\u001b[0m \u001b[0mim\u001b[0m\u001b[0;34m.\u001b[0m\u001b[0mget_clip_path\u001b[0m\u001b[0;34m(\u001b[0m\u001b[0;34m)\u001b[0m \u001b[0;32mis\u001b[0m \u001b[0;32mNone\u001b[0m\u001b[0;34m:\u001b[0m\u001b[0;34m\u001b[0m\u001b[0;34m\u001b[0m\u001b[0m\n",
      "\u001b[0;32m~/opt/anaconda3/lib/python3.7/site-packages/matplotlib/image.py\u001b[0m in \u001b[0;36mset_data\u001b[0;34m(self, A)\u001b[0m\n\u001b[1;32m    688\u001b[0m                 or self._A.ndim == 3 and self._A.shape[-1] in [3, 4]):\n\u001b[1;32m    689\u001b[0m             raise TypeError(\"Invalid shape {} for image data\"\n\u001b[0;32m--> 690\u001b[0;31m                             .format(self._A.shape))\n\u001b[0m\u001b[1;32m    691\u001b[0m \u001b[0;34m\u001b[0m\u001b[0m\n\u001b[1;32m    692\u001b[0m         \u001b[0;32mif\u001b[0m \u001b[0mself\u001b[0m\u001b[0;34m.\u001b[0m\u001b[0m_A\u001b[0m\u001b[0;34m.\u001b[0m\u001b[0mndim\u001b[0m \u001b[0;34m==\u001b[0m \u001b[0;36m3\u001b[0m\u001b[0;34m:\u001b[0m\u001b[0;34m\u001b[0m\u001b[0;34m\u001b[0m\u001b[0m\n",
      "\u001b[0;31mTypeError\u001b[0m: Invalid shape (750, 750, 1) for image data"
     ]
    },
    {
     "data": {
      "image/png": "[encoded data removed]",
      "text/plain": [
       "<Figure size 288x288 with 1 Axes>"
      ]
     },
     "metadata": {
      "needs_background": "light"
     },
     "output_type": "display_data"
    }
   ],
   "source": [
    "# ANIMATE ROTATION\n",
    "\n",
    "%matplotlib qt\n",
    "\n",
    "fig = plt.figure(figsize=(2,2))\n",
    "aa = np.asarray(star_cube[:,:,0])\n",
    "img_ = plt.imshow(aa, animated=True, cmap='hot', vmin=-1., vmax=1.)\n",
    "\n",
    "def updatefig(i):\n",
    "    aa = np.asarray(star_cube[:,:,i])\n",
    "    img_.set_array(aa)\n",
    "#    print(i)\n",
    "    return img_,\n",
    "\n",
    "anim = animation.FuncAnimation(fig, updatefig, interval=10, blit=True, save_count=number_of_rotation_phases)\n",
    "plt.axis('off')\n",
    "#plt.show()"
   ]
  },
  {
   "cell_type": "code",
   "execution_count": 46,
   "metadata": {},
   "outputs": [
    {
     "ename": "RuntimeError",
     "evalue": "Requested MovieWriter (ffmpeg) not available",
     "output_type": "error",
     "traceback": [
      "\u001b[0;31m---------------------------------------------------------------------------\u001b[0m",
      "\u001b[0;31mKeyError\u001b[0m                                  Traceback (most recent call last)",
      "\u001b[0;32m~/opt/anaconda3/lib/python3.7/site-packages/matplotlib/animation.py\u001b[0m in \u001b[0;36m__getitem__\u001b[0;34m(self, name)\u001b[0m\n\u001b[1;32m    160\u001b[0m         \u001b[0;32mtry\u001b[0m\u001b[0;34m:\u001b[0m\u001b[0;34m\u001b[0m\u001b[0;34m\u001b[0m\u001b[0m\n\u001b[0;32m--> 161\u001b[0;31m             \u001b[0;32mreturn\u001b[0m \u001b[0mself\u001b[0m\u001b[0;34m.\u001b[0m\u001b[0mavail\u001b[0m\u001b[0;34m[\u001b[0m\u001b[0mname\u001b[0m\u001b[0;34m]\u001b[0m\u001b[0;34m\u001b[0m\u001b[0;34m\u001b[0m\u001b[0m\n\u001b[0m\u001b[1;32m    162\u001b[0m         \u001b[0;32mexcept\u001b[0m \u001b[0mKeyError\u001b[0m\u001b[0;34m:\u001b[0m\u001b[0;34m\u001b[0m\u001b[0;34m\u001b[0m\u001b[0m\n",
      "\u001b[0;31mKeyError\u001b[0m: 'ffmpeg'",
      "\nDuring handling of the above exception, another exception occurred:\n",
      "\u001b[0;31mRuntimeError\u001b[0m                              Traceback (most recent call last)",
      "\u001b[0;32m<ipython-input-46-40b4479c7ced>\u001b[0m in \u001b[0;36m<module>\u001b[0;34m\u001b[0m\n\u001b[0;32m----> 1\u001b[0;31m \u001b[0mWriter\u001b[0m \u001b[0;34m=\u001b[0m \u001b[0manimation\u001b[0m\u001b[0;34m.\u001b[0m\u001b[0mwriters\u001b[0m\u001b[0;34m[\u001b[0m\u001b[0;34m'ffmpeg'\u001b[0m\u001b[0;34m]\u001b[0m\u001b[0;34m\u001b[0m\u001b[0;34m\u001b[0m\u001b[0m\n\u001b[0m\u001b[1;32m      2\u001b[0m \u001b[0mwriter\u001b[0m \u001b[0;34m=\u001b[0m \u001b[0mWriter\u001b[0m\u001b[0;34m(\u001b[0m\u001b[0mfps\u001b[0m\u001b[0;34m=\u001b[0m\u001b[0;36m20\u001b[0m\u001b[0;34m,\u001b[0m \u001b[0mmetadata\u001b[0m\u001b[0;34m=\u001b[0m\u001b[0mdict\u001b[0m\u001b[0;34m(\u001b[0m\u001b[0martist\u001b[0m\u001b[0;34m=\u001b[0m\u001b[0;34m'Me'\u001b[0m\u001b[0;34m)\u001b[0m\u001b[0;34m,\u001b[0m \u001b[0mbitrate\u001b[0m\u001b[0;34m=\u001b[0m\u001b[0;36m1800\u001b[0m\u001b[0;34m)\u001b[0m\u001b[0;34m\u001b[0m\u001b[0;34m\u001b[0m\u001b[0m\n\u001b[1;32m      3\u001b[0m \u001b[0manim\u001b[0m\u001b[0;34m.\u001b[0m\u001b[0msave\u001b[0m\u001b[0;34m(\u001b[0m\u001b[0;34m'rotate_.mp4'\u001b[0m\u001b[0;34m,\u001b[0m \u001b[0mwriter\u001b[0m\u001b[0;34m=\u001b[0m\u001b[0mwriter\u001b[0m\u001b[0;34m)\u001b[0m\u001b[0;34m\u001b[0m\u001b[0;34m\u001b[0m\u001b[0m\n",
      "\u001b[0;32m~/opt/anaconda3/lib/python3.7/site-packages/matplotlib/animation.py\u001b[0m in \u001b[0;36m__getitem__\u001b[0;34m(self, name)\u001b[0m\n\u001b[1;32m    162\u001b[0m         \u001b[0;32mexcept\u001b[0m \u001b[0mKeyError\u001b[0m\u001b[0;34m:\u001b[0m\u001b[0;34m\u001b[0m\u001b[0;34m\u001b[0m\u001b[0m\n\u001b[1;32m    163\u001b[0m             raise RuntimeError(\n\u001b[0;32m--> 164\u001b[0;31m                 'Requested MovieWriter ({}) not available'.format(name))\n\u001b[0m\u001b[1;32m    165\u001b[0m \u001b[0;34m\u001b[0m\u001b[0m\n\u001b[1;32m    166\u001b[0m \u001b[0;34m\u001b[0m\u001b[0m\n",
      "\u001b[0;31mRuntimeError\u001b[0m: Requested MovieWriter (ffmpeg) not available"
     ]
    }
   ],
   "source": [
    "Writer = animation.writers['ffmpeg']\n",
    "writer = Writer(fps=20, metadata=dict(artist='Me'), bitrate=1800)\n",
    "anim.save('rotate_.mp4', writer=writer)"
   ]
  },
  {
   "cell_type": "code",
   "execution_count": 47,
   "metadata": {},
   "outputs": [
    {
     "ename": "NameError",
     "evalue": "name 'xxxx' is not defined",
     "output_type": "error",
     "traceback": [
      "\u001b[0;31m---------------------------------------------------------------------------\u001b[0m",
      "\u001b[0;31mNameError\u001b[0m                                 Traceback (most recent call last)",
      "\u001b[0;32m<ipython-input-47-53d3699683de>\u001b[0m in \u001b[0;36m<module>\u001b[0;34m\u001b[0m\n\u001b[0;32m----> 1\u001b[0;31m \u001b[0mxxxx\u001b[0m\u001b[0;34m\u001b[0m\u001b[0;34m\u001b[0m\u001b[0m\n\u001b[0m",
      "\u001b[0;31mNameError\u001b[0m: name 'xxxx' is not defined"
     ]
    }
   ],
   "source": [
    "xxxx"
   ]
  },
  {
   "cell_type": "code",
   "execution_count": 48,
   "metadata": {},
   "outputs": [
    {
     "ename": "NameError",
     "evalue": "name 'phase_transit_load' is not defined",
     "output_type": "error",
     "traceback": [
      "\u001b[0;31m---------------------------------------------------------------------------\u001b[0m",
      "\u001b[0;31mNameError\u001b[0m                                 Traceback (most recent call last)",
      "\u001b[0;32m<ipython-input-48-0facd11cceff>\u001b[0m in \u001b[0;36m<module>\u001b[0;34m\u001b[0m\n\u001b[0;32m----> 1\u001b[0;31m \u001b[0mphase_\u001b[0m \u001b[0;34m=\u001b[0m \u001b[0mphase_transit_load\u001b[0m\u001b[0;34m.\u001b[0m\u001b[0mflatten\u001b[0m\u001b[0;34m(\u001b[0m\u001b[0;34m)\u001b[0m\u001b[0;34m\u001b[0m\u001b[0;34m\u001b[0m\u001b[0m\n\u001b[0m\u001b[1;32m      2\u001b[0m \u001b[0;34m\u001b[0m\u001b[0m\n\u001b[1;32m      3\u001b[0m \u001b[0mpp_tmp_\u001b[0m \u001b[0;34m=\u001b[0m \u001b[0mDegrees_stellar_rotation_per_HST_orbit_\u001b[0m\u001b[0;34m/\u001b[0m\u001b[0mobservations_per_orbit_\u001b[0m\u001b[0;34m\u001b[0m\u001b[0;34m\u001b[0m\u001b[0m\n\u001b[1;32m      4\u001b[0m \u001b[0mphases_per_orbit_\u001b[0m \u001b[0;34m=\u001b[0m \u001b[0mnp\u001b[0m\u001b[0;34m.\u001b[0m\u001b[0mzeros\u001b[0m\u001b[0;34m(\u001b[0m\u001b[0;34m(\u001b[0m\u001b[0mlen\u001b[0m\u001b[0;34m(\u001b[0m\u001b[0mphase_\u001b[0m\u001b[0;34m)\u001b[0m\u001b[0;34m,\u001b[0m\u001b[0mobservations_per_orbit_\u001b[0m\u001b[0;34m)\u001b[0m\u001b[0;34m)\u001b[0m\u001b[0;34m\u001b[0m\u001b[0;34m\u001b[0m\u001b[0m\n\u001b[1;32m      5\u001b[0m \u001b[0;34m\u001b[0m\u001b[0m\n",
      "\u001b[0;31mNameError\u001b[0m: name 'phase_transit_load' is not defined"
     ]
    }
   ],
   "source": [
    "phase_ = phase_transit_load.flatten()\n",
    "\n",
    "pp_tmp_ = Degrees_stellar_rotation_per_HST_orbit_/observations_per_orbit_\n",
    "phases_per_orbit_ = np.zeros((len(phase_),observations_per_orbit_))\n",
    "\n",
    "print(phases_per_orbit_.shape)\n",
    "\n",
    "for pp_ in range(len(phase_)):\n",
    "#    print(pp_)\n",
    "    phases_per_orbit_[pp_,:] = phase_[pp_] + (pp_tmp_)*np.linspace(-observations_per_orbit_/2,\n",
    "                                                                               observations_per_orbit_/2,observations_per_orbit_)\n",
    "\n",
    "aa = fig_full_lc_(phase_full_rotation, lc_full, phases_per_orbit_, lc_transit, nn, ii, save_fig)"
   ]
  },
  {
   "cell_type": "code",
   "execution_count": 3,
   "metadata": {},
   "outputs": [
    {
     "data": {
      "text/plain": [
       "'heiio'"
      ]
     },
     "execution_count": 3,
     "metadata": {},
     "output_type": "execute_result"
    }
   ],
   "source": [
    "'hello'.replace('l', 'i')"
   ]
  },
  {
   "cell_type": "code",
   "execution_count": 5,
   "metadata": {},
   "outputs": [],
   "source": [
    "import pandas as pd"
   ]
  },
  {
   "cell_type": "code",
   "execution_count": 11,
   "metadata": {},
   "outputs": [],
   "source": [
    "q = pd.Series({'x': 'hello'})"
   ]
  },
  {
   "cell_type": "code",
   "execution_count": 12,
   "metadata": {},
   "outputs": [
    {
     "data": {
      "text/plain": [
       "'iello'"
      ]
     },
     "execution_count": 12,
     "metadata": {},
     "output_type": "execute_result"
    }
   ],
   "source": [
    "q.x.replace('h', 'i')"
   ]
  },
  {
   "cell_type": "code",
   "execution_count": null,
   "metadata": {},
   "outputs": [],
   "source": []
  }
 ],
 "metadata": {
  "kernelspec": {
   "display_name": "Python 3",
   "language": "python",
   "name": "python3"
  },
  "language_info": {
   "codemirror_mode": {
    "name": "ipython",
    "version": 3
   },
   "file_extension": ".py",
   "mimetype": "text/x-python",
   "name": "python",
   "nbconvert_exporter": "python",
   "pygments_lexer": "ipython3",
   "version": "3.7.4"
  }
 },
 "nbformat": 4,
 "nbformat_minor": 2
}
